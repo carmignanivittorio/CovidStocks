{
 "cells": [
  {
   "cell_type": "markdown",
   "metadata": {},
   "source": [
    "### Come back to [Home](FinalProjectReport.ipynb)"
   ]
  },
  {
   "cell_type": "markdown",
   "metadata": {},
   "source": [
    "# TECHNOLOGIES\n",
    "One of the goals of the current analysis is to familiriaze ourselves with a multitude of technologies in data visualization and ascertain the better ones for each use case. This project uses the following technologies:\n",
    "\n",
    "* Angular 8 (<3 Typescript data binding)\n",
    "* ng2-charts based on Charts.js\n",
    "* amCharts 4\n",
    "* plotly\n",
    "* seaborn\n",
    "* folium\n",
    "* Bootstrap\n"
   ]
  },
  {
   "cell_type": "code",
   "execution_count": null,
   "metadata": {},
   "outputs": [],
   "source": []
  }
 ],
 "metadata": {
  "kernelspec": {
   "display_name": "Python 3",
   "language": "python",
   "name": "python3"
  },
  "language_info": {
   "codemirror_mode": {
    "name": "ipython",
    "version": 3
   },
   "file_extension": ".py",
   "mimetype": "text/x-python",
   "name": "python",
   "nbconvert_exporter": "python",
   "pygments_lexer": "ipython3",
   "version": "3.7.4"
  }
 },
 "nbformat": 4,
 "nbformat_minor": 4
}
