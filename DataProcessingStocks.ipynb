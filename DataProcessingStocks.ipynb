{
 "cells": [
  {
   "cell_type": "markdown",
   "metadata": {},
   "source": [
    "<a id=\"top\"/>"
   ]
  },
  {
   "cell_type": "markdown",
   "metadata": {},
   "source": [
    "\n",
    "### Come back to [Home](FinalProjectReport.ipynb)\n"
   ]
  },
  {
   "cell_type": "markdown",
   "metadata": {},
   "source": [
    "# STOCK DATA PROCESSING"
   ]
  },
  {
   "cell_type": "markdown",
   "metadata": {},
   "source": [
    ">The content of this section is:\n",
    ">1. [Choosing the dataset](#choose) \n",
    ">1. [Obtain data](#obtain) \n",
    ">1. [Data processing](#proc) \n",
    ">1. [Dataset's stats](#stats)\n",
    ">1. [Some graphs](#graphs)"
   ]
  },
  {
   "cell_type": "markdown",
   "metadata": {},
   "source": [
    ">Here we import the modules that we will need in order to extract the data to manipulate them "
   ]
  },
  {
   "cell_type": "code",
   "execution_count": 1,
   "metadata": {},
   "outputs": [],
   "source": [
    "#!pip install yfinance\n",
    "#!pip install yahoofinancials\n",
    "import pandas as pd\n",
    "import numpy as np\n",
    "import pickle\n",
    "import csv\n",
    "from datetime import datetime, timedelta\n",
    "import yfinance as yf\n",
    "import yahoofinancials\n",
    "from collections import Counter, defaultdict, deque\n",
    "import json\n",
    "import urllib"
   ]
  },
  {
   "cell_type": "markdown",
   "metadata": {},
   "source": [
    ">In this section we perform the initial preprocessing of the data to a shape which is best for use in further analysis. We will show:\n",
    "* where we obtain our data\n",
    "* convert the data to a form that it will be easier to use"
   ]
  },
  {
   "cell_type": "markdown",
   "metadata": {},
   "source": [
    "<a id=\"choose\"/>"
   ]
  },
  {
   "cell_type": "markdown",
   "metadata": {},
   "source": [
    "## Choosing the dataset\n",
    "> We decided to include a number of financial instruments to create the most reliable and inclusive picture of the market. Our goal was to analyze the data initially, find irregularities and investigate the data on the basis of questions. The most interesting actions were nominated for further analysis.\n",
    "\n",
    "> Our analysis includes multiple, different financial indexes and products. These include:\n",
    ">\n",
    ">\n",
    "> * Exchange-traded funds (ETFs):\n",
    ">  * What it is: An ETF is a investment fund traded in stock exchanges. ETFs allow exposure to a collection of assets in a specific market and can be good aggregators of the movement in a segment of that market\n",
    ">  * Which did we get:\n",
    ">    * iShares China Large-Cap ETF\n",
    ">    * VanEck Vectors Africa ETF\n",
    ">    * Franklin FTSE Italy ETF\n",
    ">    * Xtrackers Harvest CSI 300 China A-Shares ETF\n",
    "> * Stock Market Indexes:\n",
    ">  * What it is: A Stock Market Index is an aggregation of the value of the traded assets in a market. Indexes give the overall action and sentiment in a market.\n",
    ">  * Which did we get:\n",
    ">    * OMX Stockhlom\n",
    ">    * OMX Helsinki\n",
    ">    * Oslo Børs All-share Index\n",
    ">    * Bolsa de Madrid 35\n",
    ">    * Dow Jones Industrial Average\n",
    ">    * CAC 40 France\n",
    ">    * DAX Frankfurt\n",
    ">    * S&P 500\n",
    ">    * Hang Seng Index Hong Kong\n",
    ">    * Nikkei 225 Japan\n",
    ">    * FTSE 100 London\n",
    "> * Futures:\n",
    ">  * What it is: A Futures contract is an agreement to buy or sell a specific asset at a predetermined price at a specifc time in the future. They are instruments that allow to gauge the future price of that asset and ascertain the direction of pricing.\n",
    ">  * Which did we get:\n",
    ">    * Oil Crude Jun 2020 Futures\n",
    ">    * Nasdaq 100 June 2020 Futures\n",
    "> * Forex Pairs:\n",
    ">  * What it is: Foreign Exchange pairs are couples of currencies comprised of a base currency denominated in the quote currency. In a pair like CNY/EUR we see how many EURs are required to buy 1 CNY.\n",
    ">  * Which did we get:\n",
    ">    * CNY/EUR\n",
    ">    * CNY/USD\n",
    "> * Cryptocurrency pairs:\n",
    ">  * What it is: Similar to forex pairs, cryptocurrency pairs work the same way but reveal the prices of digital assets of the likes of Bitcoin or Ethereum.\n",
    ">  * Which did we get:\n",
    ">    * Bitcoin/USD"
   ]
  },
  {
   "cell_type": "markdown",
   "metadata": {},
   "source": [
    "<a id=\"obtain\"/>"
   ]
  },
  {
   "cell_type": "markdown",
   "metadata": {},
   "source": [
    "## Obtaining the Data\n",
    "> We obtained 2.5 years of data using the [yahoo financials API](https://pypi.org/project/yahoo-finance/) for the below indexes (see below for the exact dates). The available data comprehend: 'High', 'Low', 'Close', 'Adj Close' and 'Volume' (with a day precision). In order to fullfill our purposes we just need 'Adj Close'."
   ]
  },
  {
   "cell_type": "code",
   "execution_count": 2,
   "metadata": {},
   "outputs": [
    {
     "name": "stdout",
     "output_type": "stream",
     "text": [
      "dict_values(['OMX Stockhlom', 'OMX Helsinki', 'Oslo Børs All-share Index', 'OMX Copenhagen', 'iShares China Large-Cap ETF', 'Bolsa de Madrid 35', 'VanEck Vectors Africa ETF', 'Bitcoin/USD', 'Oil Crude Jun 2020 Futures', 'CNY/EUR', 'CNY/USD', 'Franklin FTSE Italy ETF', 'Nasdaq 100 June 2020 Futures', 'Dow Jones Industrial Average', 'CAC 40 France', 'DAX Frankfurt', 'S&P 500', 'Hang Seng Index Hong Kong', 'Nikkei 225 Japan', 'Xtrackers Harvest CSI 300 China A-Shares ETF', 'FTSE 100 London'])\n"
     ]
    }
   ],
   "source": [
    "STOCKS = {\n",
    "  '^OMX': 'OMX Stockhlom',\n",
    "  '^OMXH25': 'OMX Helsinki',\n",
    "  '^OSEAX': 'Oslo Børs All-share Index',\n",
    "  '^OMXCGI': 'OMX Copenhagen',\n",
    "  'FXI': 'iShares China Large-Cap ETF',\n",
    "  '^IBEX': 'Bolsa de Madrid 35',\n",
    "  'AFK': 'VanEck Vectors Africa ETF',\n",
    "  'BTC-USD': 'Bitcoin/USD',\n",
    "  'CL=F': 'Oil Crude Jun 2020 Futures',\n",
    "  'CNYEUR=X?P=CNYEUR=X': 'CNY/EUR',\n",
    "  'CNYUSD=X?P=CNYUSD=X': 'CNY/USD',\n",
    "  'FLIY': 'Franklin FTSE Italy ETF',\n",
    "  'NQ=F': 'Nasdaq 100 June 2020 Futures',\n",
    "  '^DJI': 'Dow Jones Industrial Average',\n",
    "  '^FCHI': 'CAC 40 France',\n",
    "  '^GDAXI': 'DAX Frankfurt',\n",
    "  '^GSPC': 'S&P 500',\n",
    "  '^HSI': 'Hang Seng Index Hong Kong',\n",
    "  '^N225': 'Nikkei 225 Japan',\n",
    "  'ASHR': 'Xtrackers Harvest CSI 300 China A-Shares ETF',\n",
    "    '^FTSE': 'FTSE 100 London',\n",
    "}\n",
    "print(STOCKS.values())"
   ]
  },
  {
   "cell_type": "code",
   "execution_count": 3,
   "metadata": {},
   "outputs": [
    {
     "name": "stdout",
     "output_type": "stream",
     "text": [
      "From 2017-11-25 to 2020-05-14\n"
     ]
    }
   ],
   "source": [
    "max_date = datetime.today().date()\n",
    "min_date = max_date - timedelta(days=901)\n",
    "print(\"From\", min_date,\"to\", max_date)"
   ]
  },
  {
   "cell_type": "code",
   "execution_count": 4,
   "metadata": {},
   "outputs": [],
   "source": [
    "selected_features = [\"stock\", \"Date\", \"Adj Close\"]\n",
    "df_ori= pd.DataFrame.from_dict({}, orient='index', columns = selected_features)\n",
    "for key, name in STOCKS.items():\n",
    "    temp_df = yf.download(key, \n",
    "                          start=min_date, \n",
    "                          end=max_date, \n",
    "                          progress=False,\n",
    "                         interval = \"1d\")\n",
    "    if not temp_df.empty:\n",
    "        temp_df = temp_df.reset_index()\n",
    "        temp_df[\"stock\"] = name\n",
    "        df_ori = pd.concat([df_ori, temp_df[selected_features]])\n",
    "STOCKS = sorted(df_ori.stock.unique())"
   ]
  },
  {
   "cell_type": "code",
   "execution_count": 5,
   "metadata": {},
   "outputs": [
    {
     "name": "stdout",
     "output_type": "stream",
     "text": [
      "Downloaded Indexes: ['OMX Stockhlom' 'OMX Helsinki' 'Oslo Børs All-share Index'\n",
      " 'OMX Copenhagen' 'iShares China Large-Cap ETF' 'Bolsa de Madrid 35'\n",
      " 'VanEck Vectors Africa ETF' 'Bitcoin/USD' 'Oil Crude Jun 2020 Futures'\n",
      " 'CNY/EUR' 'CNY/USD' 'Franklin FTSE Italy ETF'\n",
      " 'Nasdaq 100 June 2020 Futures' 'Dow Jones Industrial Average'\n",
      " 'CAC 40 France' 'DAX Frankfurt' 'S&P 500' 'Hang Seng Index Hong Kong'\n",
      " 'Nikkei 225 Japan' 'Xtrackers Harvest CSI 300 China A-Shares ETF'\n",
      " 'FTSE 100 London']\n"
     ]
    }
   ],
   "source": [
    "print(\"Downloaded Indexes:\", df_ori.stock.unique())"
   ]
  },
  {
   "cell_type": "code",
   "execution_count": 6,
   "metadata": {},
   "outputs": [
    {
     "data": {
      "text/html": [
       "<div>\n",
       "<style scoped>\n",
       "    .dataframe tbody tr th:only-of-type {\n",
       "        vertical-align: middle;\n",
       "    }\n",
       "\n",
       "    .dataframe tbody tr th {\n",
       "        vertical-align: top;\n",
       "    }\n",
       "\n",
       "    .dataframe thead th {\n",
       "        text-align: right;\n",
       "    }\n",
       "</style>\n",
       "<table border=\"1\" class=\"dataframe\">\n",
       "  <thead>\n",
       "    <tr style=\"text-align: right;\">\n",
       "      <th></th>\n",
       "      <th>stock</th>\n",
       "      <th>Date</th>\n",
       "      <th>Adj Close</th>\n",
       "    </tr>\n",
       "  </thead>\n",
       "  <tbody>\n",
       "    <tr>\n",
       "      <td>0</td>\n",
       "      <td>OMX Stockhlom</td>\n",
       "      <td>2017-11-27</td>\n",
       "      <td>1608.739990</td>\n",
       "    </tr>\n",
       "    <tr>\n",
       "      <td>1</td>\n",
       "      <td>OMX Stockhlom</td>\n",
       "      <td>2017-11-28</td>\n",
       "      <td>1620.810059</td>\n",
       "    </tr>\n",
       "    <tr>\n",
       "      <td>2</td>\n",
       "      <td>OMX Stockhlom</td>\n",
       "      <td>2017-11-29</td>\n",
       "      <td>1613.560059</td>\n",
       "    </tr>\n",
       "    <tr>\n",
       "      <td>3</td>\n",
       "      <td>OMX Stockhlom</td>\n",
       "      <td>2017-11-30</td>\n",
       "      <td>1610.109985</td>\n",
       "    </tr>\n",
       "    <tr>\n",
       "      <td>4</td>\n",
       "      <td>OMX Stockhlom</td>\n",
       "      <td>2017-12-01</td>\n",
       "      <td>1592.199951</td>\n",
       "    </tr>\n",
       "  </tbody>\n",
       "</table>\n",
       "</div>"
      ],
      "text/plain": [
       "           stock       Date    Adj Close\n",
       "0  OMX Stockhlom 2017-11-27  1608.739990\n",
       "1  OMX Stockhlom 2017-11-28  1620.810059\n",
       "2  OMX Stockhlom 2017-11-29  1613.560059\n",
       "3  OMX Stockhlom 2017-11-30  1610.109985\n",
       "4  OMX Stockhlom 2017-12-01  1592.199951"
      ]
     },
     "execution_count": 6,
     "metadata": {},
     "output_type": "execute_result"
    }
   ],
   "source": [
    "df_ori.head()"
   ]
  },
  {
   "cell_type": "markdown",
   "metadata": {},
   "source": [
    "<a id=\"proc\"/>"
   ]
  },
  {
   "cell_type": "markdown",
   "metadata": {},
   "source": [
    "## Data processing\n",
    "> Once the data are downloaded, we are going to perform the following actions:\n",
    "  - column rename\n",
    "  - change columns' data type\n",
    "  - filter out dates which are not in common within all the stocks\n",
    "  - calculate the normalized adj_close (within a stock)\n",
    "  - calculate the adj_close increase percentage (in comparison with the previous day)"
   ]
  },
  {
   "cell_type": "markdown",
   "metadata": {},
   "source": [
    "Column rename"
   ]
  },
  {
   "cell_type": "code",
   "execution_count": 7,
   "metadata": {},
   "outputs": [
    {
     "data": {
      "text/plain": [
       "['stock', 'date', 'adj_close']"
      ]
     },
     "execution_count": 7,
     "metadata": {},
     "output_type": "execute_result"
    }
   ],
   "source": [
    "df_ori = df_ori.rename(columns={name: name.lower().replace(\" \", \"_\") for name in df_ori.columns.to_list()})\n",
    "selected_features = df_ori.columns.to_list()\n",
    "selected_features"
   ]
  },
  {
   "cell_type": "code",
   "execution_count": 8,
   "metadata": {},
   "outputs": [],
   "source": [
    "df_stock = df_ori.copy()"
   ]
  },
  {
   "cell_type": "markdown",
   "metadata": {},
   "source": [
    "Change columns' data type"
   ]
  },
  {
   "cell_type": "code",
   "execution_count": 9,
   "metadata": {},
   "outputs": [
    {
     "data": {
      "text/plain": [
       "stock                object\n",
       "date         datetime64[ns]\n",
       "adj_close           float64\n",
       "dtype: object"
      ]
     },
     "execution_count": 9,
     "metadata": {},
     "output_type": "execute_result"
    }
   ],
   "source": [
    "df_stock[\"date\"] = pd.to_datetime(df_stock[\"date\"])\n",
    "df_stock.dtypes"
   ]
  },
  {
   "cell_type": "markdown",
   "metadata": {},
   "source": [
    "Remove nan values and sorting the dataframe"
   ]
  },
  {
   "cell_type": "code",
   "execution_count": 10,
   "metadata": {},
   "outputs": [
    {
     "data": {
      "text/plain": [
       "(13274, 3)"
      ]
     },
     "execution_count": 10,
     "metadata": {},
     "output_type": "execute_result"
    }
   ],
   "source": [
    "df_stock = df_stock.dropna()\n",
    "df_stock = df_stock.sort_values(by=[\"stock\", \"date\"])\n",
    "df_stock.shape"
   ]
  },
  {
   "cell_type": "markdown",
   "metadata": {},
   "source": [
    "Filter out dates which are not in common within all the stocks"
   ]
  },
  {
   "cell_type": "code",
   "execution_count": 11,
   "metadata": {},
   "outputs": [
    {
     "data": {
      "text/html": [
       "<div>\n",
       "<style scoped>\n",
       "    .dataframe tbody tr th:only-of-type {\n",
       "        vertical-align: middle;\n",
       "    }\n",
       "\n",
       "    .dataframe tbody tr th {\n",
       "        vertical-align: top;\n",
       "    }\n",
       "\n",
       "    .dataframe thead th {\n",
       "        text-align: right;\n",
       "    }\n",
       "</style>\n",
       "<table border=\"1\" class=\"dataframe\">\n",
       "  <thead>\n",
       "    <tr style=\"text-align: right;\">\n",
       "      <th></th>\n",
       "      <th>stock</th>\n",
       "      <th>date</th>\n",
       "      <th>adj_close</th>\n",
       "    </tr>\n",
       "  </thead>\n",
       "  <tbody>\n",
       "    <tr>\n",
       "      <td>615</td>\n",
       "      <td>iShares China Large-Cap ETF</td>\n",
       "      <td>2020-05-07</td>\n",
       "      <td>38.200001</td>\n",
       "    </tr>\n",
       "    <tr>\n",
       "      <td>616</td>\n",
       "      <td>iShares China Large-Cap ETF</td>\n",
       "      <td>2020-05-08</td>\n",
       "      <td>39.070000</td>\n",
       "    </tr>\n",
       "    <tr>\n",
       "      <td>617</td>\n",
       "      <td>iShares China Large-Cap ETF</td>\n",
       "      <td>2020-05-11</td>\n",
       "      <td>38.889999</td>\n",
       "    </tr>\n",
       "    <tr>\n",
       "      <td>618</td>\n",
       "      <td>iShares China Large-Cap ETF</td>\n",
       "      <td>2020-05-12</td>\n",
       "      <td>38.549999</td>\n",
       "    </tr>\n",
       "    <tr>\n",
       "      <td>619</td>\n",
       "      <td>iShares China Large-Cap ETF</td>\n",
       "      <td>2020-05-13</td>\n",
       "      <td>38.669998</td>\n",
       "    </tr>\n",
       "  </tbody>\n",
       "</table>\n",
       "</div>"
      ],
      "text/plain": [
       "                           stock       date  adj_close\n",
       "615  iShares China Large-Cap ETF 2020-05-07  38.200001\n",
       "616  iShares China Large-Cap ETF 2020-05-08  39.070000\n",
       "617  iShares China Large-Cap ETF 2020-05-11  38.889999\n",
       "618  iShares China Large-Cap ETF 2020-05-12  38.549999\n",
       "619  iShares China Large-Cap ETF 2020-05-13  38.669998"
      ]
     },
     "execution_count": 11,
     "metadata": {},
     "output_type": "execute_result"
    }
   ],
   "source": [
    "# Here we select a common interval within the stocks\n",
    "min_date = max([min(df_stock[df_stock.stock == stock].date) for stock in STOCKS])\n",
    "max_date = min([max(df_stock[df_stock.stock == stock].date) for stock in STOCKS])\n",
    "df_stock = df_stock[(df_stock.date >= min_date) & (df_stock.date <= max_date)]\n",
    "df_stock.tail(5)"
   ]
  },
  {
   "cell_type": "code",
   "execution_count": 12,
   "metadata": {},
   "outputs": [],
   "source": [
    "def get_all_dates_list(min_date, max_date):\n",
    "    temp = min_date\n",
    "    dates = []\n",
    "    while temp <= max_date:\n",
    "        dates.append(temp)\n",
    "        temp += timedelta(days=1)\n",
    "    return dates"
   ]
  },
  {
   "cell_type": "code",
   "execution_count": 13,
   "metadata": {},
   "outputs": [],
   "source": [
    "def get_stock_with_all_dates(stock, df, range_dates):\n",
    "    temp_df = df[df.stock == stock]\n",
    "    temp_df = temp_df.set_index(\"date\").reindex(range_dates).sort_index()\n",
    "    temp_df = temp_df.ffill()\n",
    "    return temp_df"
   ]
  },
  {
   "cell_type": "code",
   "execution_count": 14,
   "metadata": {},
   "outputs": [
    {
     "data": {
      "text/html": [
       "<div>\n",
       "<style scoped>\n",
       "    .dataframe tbody tr th:only-of-type {\n",
       "        vertical-align: middle;\n",
       "    }\n",
       "\n",
       "    .dataframe tbody tr th {\n",
       "        vertical-align: top;\n",
       "    }\n",
       "\n",
       "    .dataframe thead th {\n",
       "        text-align: right;\n",
       "    }\n",
       "</style>\n",
       "<table border=\"1\" class=\"dataframe\">\n",
       "  <thead>\n",
       "    <tr style=\"text-align: right;\">\n",
       "      <th></th>\n",
       "      <th>stock</th>\n",
       "      <th>date</th>\n",
       "      <th>adj_close</th>\n",
       "    </tr>\n",
       "  </thead>\n",
       "  <tbody>\n",
       "    <tr>\n",
       "      <td>24</td>\n",
       "      <td>Bitcoin/USD</td>\n",
       "      <td>2017-12-18</td>\n",
       "      <td>19114.199219</td>\n",
       "    </tr>\n",
       "    <tr>\n",
       "      <td>25</td>\n",
       "      <td>Bitcoin/USD</td>\n",
       "      <td>2017-12-19</td>\n",
       "      <td>17776.699219</td>\n",
       "    </tr>\n",
       "    <tr>\n",
       "      <td>26</td>\n",
       "      <td>Bitcoin/USD</td>\n",
       "      <td>2017-12-20</td>\n",
       "      <td>16624.599609</td>\n",
       "    </tr>\n",
       "    <tr>\n",
       "      <td>27</td>\n",
       "      <td>Bitcoin/USD</td>\n",
       "      <td>2017-12-21</td>\n",
       "      <td>15802.900391</td>\n",
       "    </tr>\n",
       "    <tr>\n",
       "      <td>28</td>\n",
       "      <td>Bitcoin/USD</td>\n",
       "      <td>2017-12-22</td>\n",
       "      <td>13831.799805</td>\n",
       "    </tr>\n",
       "    <tr>\n",
       "      <td>29</td>\n",
       "      <td>Bitcoin/USD</td>\n",
       "      <td>2017-12-23</td>\n",
       "      <td>14699.200195</td>\n",
       "    </tr>\n",
       "    <tr>\n",
       "      <td>30</td>\n",
       "      <td>Bitcoin/USD</td>\n",
       "      <td>2017-12-24</td>\n",
       "      <td>13925.799805</td>\n",
       "    </tr>\n",
       "    <tr>\n",
       "      <td>31</td>\n",
       "      <td>Bitcoin/USD</td>\n",
       "      <td>2017-12-25</td>\n",
       "      <td>14026.599609</td>\n",
       "    </tr>\n",
       "    <tr>\n",
       "      <td>32</td>\n",
       "      <td>Bitcoin/USD</td>\n",
       "      <td>2017-12-26</td>\n",
       "      <td>16099.799805</td>\n",
       "    </tr>\n",
       "    <tr>\n",
       "      <td>33</td>\n",
       "      <td>Bitcoin/USD</td>\n",
       "      <td>2017-12-27</td>\n",
       "      <td>15838.500000</td>\n",
       "    </tr>\n",
       "  </tbody>\n",
       "</table>\n",
       "</div>"
      ],
      "text/plain": [
       "          stock       date     adj_close\n",
       "24  Bitcoin/USD 2017-12-18  19114.199219\n",
       "25  Bitcoin/USD 2017-12-19  17776.699219\n",
       "26  Bitcoin/USD 2017-12-20  16624.599609\n",
       "27  Bitcoin/USD 2017-12-21  15802.900391\n",
       "28  Bitcoin/USD 2017-12-22  13831.799805\n",
       "29  Bitcoin/USD 2017-12-23  14699.200195\n",
       "30  Bitcoin/USD 2017-12-24  13925.799805\n",
       "31  Bitcoin/USD 2017-12-25  14026.599609\n",
       "32  Bitcoin/USD 2017-12-26  16099.799805\n",
       "33  Bitcoin/USD 2017-12-27  15838.500000"
      ]
     },
     "execution_count": 14,
     "metadata": {},
     "output_type": "execute_result"
    }
   ],
   "source": [
    "df_stock[df_stock.stock == STOCKS[0]].sort_values(by='date').head(10)"
   ]
  },
  {
   "cell_type": "code",
   "execution_count": 15,
   "metadata": {},
   "outputs": [
    {
     "data": {
      "text/html": [
       "<div>\n",
       "<style scoped>\n",
       "    .dataframe tbody tr th:only-of-type {\n",
       "        vertical-align: middle;\n",
       "    }\n",
       "\n",
       "    .dataframe tbody tr th {\n",
       "        vertical-align: top;\n",
       "    }\n",
       "\n",
       "    .dataframe thead th {\n",
       "        text-align: right;\n",
       "    }\n",
       "</style>\n",
       "<table border=\"1\" class=\"dataframe\">\n",
       "  <thead>\n",
       "    <tr style=\"text-align: right;\">\n",
       "      <th></th>\n",
       "      <th>stock</th>\n",
       "      <th>adj_close</th>\n",
       "    </tr>\n",
       "    <tr>\n",
       "      <th>date</th>\n",
       "      <th></th>\n",
       "      <th></th>\n",
       "    </tr>\n",
       "  </thead>\n",
       "  <tbody>\n",
       "    <tr>\n",
       "      <td>2017-12-18</td>\n",
       "      <td>Bitcoin/USD</td>\n",
       "      <td>19114.199219</td>\n",
       "    </tr>\n",
       "    <tr>\n",
       "      <td>2017-12-19</td>\n",
       "      <td>Bitcoin/USD</td>\n",
       "      <td>17776.699219</td>\n",
       "    </tr>\n",
       "    <tr>\n",
       "      <td>2017-12-20</td>\n",
       "      <td>Bitcoin/USD</td>\n",
       "      <td>16624.599609</td>\n",
       "    </tr>\n",
       "    <tr>\n",
       "      <td>2017-12-21</td>\n",
       "      <td>Bitcoin/USD</td>\n",
       "      <td>15802.900391</td>\n",
       "    </tr>\n",
       "    <tr>\n",
       "      <td>2017-12-22</td>\n",
       "      <td>Bitcoin/USD</td>\n",
       "      <td>13831.799805</td>\n",
       "    </tr>\n",
       "    <tr>\n",
       "      <td>2017-12-23</td>\n",
       "      <td>Bitcoin/USD</td>\n",
       "      <td>14699.200195</td>\n",
       "    </tr>\n",
       "    <tr>\n",
       "      <td>2017-12-24</td>\n",
       "      <td>Bitcoin/USD</td>\n",
       "      <td>13925.799805</td>\n",
       "    </tr>\n",
       "    <tr>\n",
       "      <td>2017-12-25</td>\n",
       "      <td>Bitcoin/USD</td>\n",
       "      <td>14026.599609</td>\n",
       "    </tr>\n",
       "    <tr>\n",
       "      <td>2017-12-26</td>\n",
       "      <td>Bitcoin/USD</td>\n",
       "      <td>16099.799805</td>\n",
       "    </tr>\n",
       "    <tr>\n",
       "      <td>2017-12-27</td>\n",
       "      <td>Bitcoin/USD</td>\n",
       "      <td>15838.500000</td>\n",
       "    </tr>\n",
       "  </tbody>\n",
       "</table>\n",
       "</div>"
      ],
      "text/plain": [
       "                  stock     adj_close\n",
       "date                                 \n",
       "2017-12-18  Bitcoin/USD  19114.199219\n",
       "2017-12-19  Bitcoin/USD  17776.699219\n",
       "2017-12-20  Bitcoin/USD  16624.599609\n",
       "2017-12-21  Bitcoin/USD  15802.900391\n",
       "2017-12-22  Bitcoin/USD  13831.799805\n",
       "2017-12-23  Bitcoin/USD  14699.200195\n",
       "2017-12-24  Bitcoin/USD  13925.799805\n",
       "2017-12-25  Bitcoin/USD  14026.599609\n",
       "2017-12-26  Bitcoin/USD  16099.799805\n",
       "2017-12-27  Bitcoin/USD  15838.500000"
      ]
     },
     "execution_count": 15,
     "metadata": {},
     "output_type": "execute_result"
    }
   ],
   "source": [
    "get_stock_with_all_dates(STOCKS[0], df_stock, get_all_dates_list(min(df_stock.date), max(df_stock.date))).head(10)"
   ]
  },
  {
   "cell_type": "code",
   "execution_count": 16,
   "metadata": {},
   "outputs": [],
   "source": [
    "def get_all_stocks_with_all_dates(dataframe_to_normalize):\n",
    "    df = dataframe_to_normalize.copy()\n",
    "    stocks = sorted(df.stock.unique())\n",
    "    range_dates = get_all_dates_list(min(df.date), max(df.date))\n",
    "    new_df = get_stock_with_all_dates(stocks[0], df, range_dates)\n",
    "    for stock in stocks[1:]:\n",
    "        new_df = new_df.append(get_stock_with_all_dates(stock, df, range_dates))\n",
    "    new_df = new_df.reset_index()\n",
    "    new_df = new_df.rename(columns={\"index\": \"date\"})\n",
    "    return new_df "
   ]
  },
  {
   "cell_type": "markdown",
   "metadata": {},
   "source": [
    "The stock dataset has missing dates given the closure of the market as well as other factors. For this reason, we insert those dates with null value on the other columns. Consequently, we fill the null values with the amount of the previous day (within a stock)."
   ]
  },
  {
   "cell_type": "code",
   "execution_count": 17,
   "metadata": {},
   "outputs": [],
   "source": [
    "df_stock = get_all_stocks_with_all_dates(df_stock)"
   ]
  },
  {
   "cell_type": "code",
   "execution_count": 18,
   "metadata": {},
   "outputs": [
    {
     "data": {
      "text/html": [
       "<div>\n",
       "<style scoped>\n",
       "    .dataframe tbody tr th:only-of-type {\n",
       "        vertical-align: middle;\n",
       "    }\n",
       "\n",
       "    .dataframe tbody tr th {\n",
       "        vertical-align: top;\n",
       "    }\n",
       "\n",
       "    .dataframe thead th {\n",
       "        text-align: right;\n",
       "    }\n",
       "</style>\n",
       "<table border=\"1\" class=\"dataframe\">\n",
       "  <thead>\n",
       "    <tr style=\"text-align: right;\">\n",
       "      <th></th>\n",
       "      <th>date</th>\n",
       "      <th>stock</th>\n",
       "      <th>adj_close</th>\n",
       "    </tr>\n",
       "  </thead>\n",
       "  <tbody>\n",
       "    <tr>\n",
       "      <td>0</td>\n",
       "      <td>2017-12-18</td>\n",
       "      <td>Bitcoin/USD</td>\n",
       "      <td>19114.199219</td>\n",
       "    </tr>\n",
       "  </tbody>\n",
       "</table>\n",
       "</div>"
      ],
      "text/plain": [
       "        date        stock     adj_close\n",
       "0 2017-12-18  Bitcoin/USD  19114.199219"
      ]
     },
     "execution_count": 18,
     "metadata": {},
     "output_type": "execute_result"
    }
   ],
   "source": [
    "df_stock.head(1)"
   ]
  },
  {
   "cell_type": "markdown",
   "metadata": {},
   "source": [
    "Calculate the normalized `adj_close` (within a stock) and the `adj_close` increase percentage (in comparison with the previous day)"
   ]
  },
  {
   "cell_type": "code",
   "execution_count": 19,
   "metadata": {},
   "outputs": [
    {
     "name": "stdout",
     "output_type": "stream",
     "text": [
      "Features ['stock', 'date', 'adj_close']  of which Float: ['adj_close']\n"
     ]
    }
   ],
   "source": [
    "float_features = df_stock.columns[(df_stock.dtypes.values == np.dtype('float64'))].to_list()\n",
    "print(\"Features\", selected_features, \" of which Float:\", float_features)\n",
    "selected_features += [f+\"_norm\" for f in float_features]"
   ]
  },
  {
   "cell_type": "code",
   "execution_count": 20,
   "metadata": {},
   "outputs": [],
   "source": [
    "df_stock_perc = pd.DataFrame.from_dict({}, orient='index', columns = selected_features)\n",
    "for stock in STOCKS:\n",
    "    #Selecting one stock\n",
    "    temp = df_stock[df_stock.stock == stock].sort_values(by=\"date\",  ascending=True)\n",
    "    \n",
    "    # MinMax Scaler\n",
    "    min_value = min(temp[float_features].min())\n",
    "    diff_max_min = max(temp[float_features].max()) - min_value\n",
    "    for feature in float_features:\n",
    "        temp[feature+\"_norm\"] = (temp[feature] - min_value) / diff_max_min\n",
    "    \n",
    "    #Calculating percentage diff\n",
    "    temp[float_features] = temp[float_features].pct_change()*100\n",
    "    \n",
    "    df_stock_perc = pd.concat([df_stock_perc,temp], sort=False)\n",
    "df_stock_perc = df_stock_perc.rename(columns={name: name+\"_diff%\" for name in float_features})\n",
    "df_stock_perc = df_stock_perc.drop(columns=[\"stock\", \"date\"])"
   ]
  },
  {
   "cell_type": "code",
   "execution_count": 21,
   "metadata": {},
   "outputs": [
    {
     "data": {
      "text/html": [
       "<div>\n",
       "<style scoped>\n",
       "    .dataframe tbody tr th:only-of-type {\n",
       "        vertical-align: middle;\n",
       "    }\n",
       "\n",
       "    .dataframe tbody tr th {\n",
       "        vertical-align: top;\n",
       "    }\n",
       "\n",
       "    .dataframe thead th {\n",
       "        text-align: right;\n",
       "    }\n",
       "</style>\n",
       "<table border=\"1\" class=\"dataframe\">\n",
       "  <thead>\n",
       "    <tr style=\"text-align: right;\">\n",
       "      <th></th>\n",
       "      <th>date</th>\n",
       "      <th>stock</th>\n",
       "      <th>adj_close</th>\n",
       "      <th>adj_close_diff%</th>\n",
       "      <th>adj_close_norm</th>\n",
       "    </tr>\n",
       "  </thead>\n",
       "  <tbody>\n",
       "    <tr>\n",
       "      <td>1</td>\n",
       "      <td>2017-12-19</td>\n",
       "      <td>Bitcoin/USD</td>\n",
       "      <td>17776.699219</td>\n",
       "      <td>-6.997416</td>\n",
       "      <td>0.915761</td>\n",
       "    </tr>\n",
       "    <tr>\n",
       "      <td>2</td>\n",
       "      <td>2017-12-20</td>\n",
       "      <td>Bitcoin/USD</td>\n",
       "      <td>16624.599609</td>\n",
       "      <td>-6.480953</td>\n",
       "      <td>0.843199</td>\n",
       "    </tr>\n",
       "    <tr>\n",
       "      <td>3</td>\n",
       "      <td>2017-12-21</td>\n",
       "      <td>Bitcoin/USD</td>\n",
       "      <td>15802.900391</td>\n",
       "      <td>-4.942671</td>\n",
       "      <td>0.791446</td>\n",
       "    </tr>\n",
       "    <tr>\n",
       "      <td>4</td>\n",
       "      <td>2017-12-22</td>\n",
       "      <td>Bitcoin/USD</td>\n",
       "      <td>13831.799805</td>\n",
       "      <td>-12.473031</td>\n",
       "      <td>0.667302</td>\n",
       "    </tr>\n",
       "    <tr>\n",
       "      <td>5</td>\n",
       "      <td>2017-12-23</td>\n",
       "      <td>Bitcoin/USD</td>\n",
       "      <td>14699.200195</td>\n",
       "      <td>6.271059</td>\n",
       "      <td>0.721933</td>\n",
       "    </tr>\n",
       "  </tbody>\n",
       "</table>\n",
       "</div>"
      ],
      "text/plain": [
       "        date        stock     adj_close  adj_close_diff%  adj_close_norm\n",
       "1 2017-12-19  Bitcoin/USD  17776.699219        -6.997416        0.915761\n",
       "2 2017-12-20  Bitcoin/USD  16624.599609        -6.480953        0.843199\n",
       "3 2017-12-21  Bitcoin/USD  15802.900391        -4.942671        0.791446\n",
       "4 2017-12-22  Bitcoin/USD  13831.799805       -12.473031        0.667302\n",
       "5 2017-12-23  Bitcoin/USD  14699.200195         6.271059        0.721933"
      ]
     },
     "execution_count": 21,
     "metadata": {},
     "output_type": "execute_result"
    }
   ],
   "source": [
    "df_stock = pd.merge(df_stock, df_stock_perc.dropna(), how='inner', left_index=True, right_index=True)\n",
    "df_stock.head(5)"
   ]
  },
  {
   "cell_type": "markdown",
   "metadata": {},
   "source": [
    "<a id=\"stats\"/>"
   ]
  },
  {
   "cell_type": "markdown",
   "metadata": {},
   "source": [
    "## Dataset's stats"
   ]
  },
  {
   "cell_type": "code",
   "execution_count": 22,
   "metadata": {},
   "outputs": [],
   "source": [
    "get_number_unique_values = lambda df, col: len(df[col].unique())\n",
    "def print_info(df, main_feature):\n",
    "    print(\"Number of %s:\" % main_feature, get_number_unique_values(df, main_feature))\n",
    "    print(\"\\nNumber of days:\", get_number_unique_values(df, \"date\"))\n",
    "    print(\"\\nFrom:\", min(df.date), \"to\", max(df.date))\n",
    "    features = df.columns.to_list()\n",
    "    print(\"\\nWe have %d features:\" % len(features), features)\n",
    "    print(\"\\nThe total number of (rows, cols) is:\", df.shape)\n",
    "    print(\"\\nIn memory occupies: ~%d MB\\n\" % (df.memory_usage(index=True).sum() / (2**16)))\n",
    "    print(df.head(1))"
   ]
  },
  {
   "cell_type": "markdown",
   "metadata": {},
   "source": [
    "### Original Dataset"
   ]
  },
  {
   "cell_type": "code",
   "execution_count": 23,
   "metadata": {},
   "outputs": [
    {
     "name": "stdout",
     "output_type": "stream",
     "text": [
      "Number of stock: 21\n",
      "\n",
      "Number of days: 902\n",
      "\n",
      "From: 2017-11-24 00:00:00 to 2020-05-13 00:00:00\n",
      "\n",
      "We have 3 features: ['stock', 'date', 'adj_close']\n",
      "\n",
      "The total number of (rows, cols) is: (13274, 3)\n",
      "\n",
      "In memory occupies: ~6 MB\n",
      "\n",
      "           stock       date   adj_close\n",
      "0  OMX Stockhlom 2017-11-27  1608.73999\n"
     ]
    }
   ],
   "source": [
    "print_info(df_ori, \"stock\")"
   ]
  },
  {
   "cell_type": "markdown",
   "metadata": {},
   "source": [
    "### Processed Dataset"
   ]
  },
  {
   "cell_type": "code",
   "execution_count": 24,
   "metadata": {
    "scrolled": true
   },
   "outputs": [
    {
     "name": "stdout",
     "output_type": "stream",
     "text": [
      "Number of stock: 21\n",
      "\n",
      "Number of days: 877\n",
      "\n",
      "From: 2017-12-19 00:00:00 to 2020-05-13 00:00:00\n",
      "\n",
      "We have 5 features: ['date', 'stock', 'adj_close', 'adj_close_diff%', 'adj_close_norm']\n",
      "\n",
      "The total number of (rows, cols) is: (18417, 5)\n",
      "\n",
      "In memory occupies: ~13 MB\n",
      "\n",
      "        date        stock     adj_close  adj_close_diff%  adj_close_norm\n",
      "1 2017-12-19  Bitcoin/USD  17776.699219        -6.997416        0.915761\n"
     ]
    }
   ],
   "source": [
    "print_info(df_stock, \"stock\")"
   ]
  },
  {
   "cell_type": "code",
   "execution_count": 25,
   "metadata": {},
   "outputs": [
    {
     "data": {
      "text/html": [
       "<div>\n",
       "<style scoped>\n",
       "    .dataframe tbody tr th:only-of-type {\n",
       "        vertical-align: middle;\n",
       "    }\n",
       "\n",
       "    .dataframe tbody tr th {\n",
       "        vertical-align: top;\n",
       "    }\n",
       "\n",
       "    .dataframe thead th {\n",
       "        text-align: right;\n",
       "    }\n",
       "</style>\n",
       "<table border=\"1\" class=\"dataframe\">\n",
       "  <thead>\n",
       "    <tr style=\"text-align: right;\">\n",
       "      <th></th>\n",
       "      <th>adj_close</th>\n",
       "      <th>adj_close_diff%</th>\n",
       "      <th>adj_close_norm</th>\n",
       "    </tr>\n",
       "  </thead>\n",
       "  <tbody>\n",
       "    <tr>\n",
       "      <td>count</td>\n",
       "      <td>18417.000000</td>\n",
       "      <td>18417.000000</td>\n",
       "      <td>18417.000000</td>\n",
       "    </tr>\n",
       "    <tr>\n",
       "      <td>mean</td>\n",
       "      <td>6454.170283</td>\n",
       "      <td>-0.032602</td>\n",
       "      <td>0.568072</td>\n",
       "    </tr>\n",
       "    <tr>\n",
       "      <td>std</td>\n",
       "      <td>8497.247854</td>\n",
       "      <td>3.692908</td>\n",
       "      <td>0.232318</td>\n",
       "    </tr>\n",
       "    <tr>\n",
       "      <td>min</td>\n",
       "      <td>-2.720000</td>\n",
       "      <td>-433.088247</td>\n",
       "      <td>0.000000</td>\n",
       "    </tr>\n",
       "    <tr>\n",
       "      <td>25%</td>\n",
       "      <td>38.937679</td>\n",
       "      <td>-0.230575</td>\n",
       "      <td>0.393732</td>\n",
       "    </tr>\n",
       "    <tr>\n",
       "      <td>50%</td>\n",
       "      <td>2826.060059</td>\n",
       "      <td>0.000000</td>\n",
       "      <td>0.597784</td>\n",
       "    </tr>\n",
       "    <tr>\n",
       "      <td>75%</td>\n",
       "      <td>8784.494141</td>\n",
       "      <td>0.325337</td>\n",
       "      <td>0.749305</td>\n",
       "    </tr>\n",
       "    <tr>\n",
       "      <td>max</td>\n",
       "      <td>33154.121094</td>\n",
       "      <td>48.401042</td>\n",
       "      <td>1.000000</td>\n",
       "    </tr>\n",
       "  </tbody>\n",
       "</table>\n",
       "</div>"
      ],
      "text/plain": [
       "          adj_close  adj_close_diff%  adj_close_norm\n",
       "count  18417.000000     18417.000000    18417.000000\n",
       "mean    6454.170283        -0.032602        0.568072\n",
       "std     8497.247854         3.692908        0.232318\n",
       "min       -2.720000      -433.088247        0.000000\n",
       "25%       38.937679        -0.230575        0.393732\n",
       "50%     2826.060059         0.000000        0.597784\n",
       "75%     8784.494141         0.325337        0.749305\n",
       "max    33154.121094        48.401042        1.000000"
      ]
     },
     "execution_count": 25,
     "metadata": {},
     "output_type": "execute_result"
    }
   ],
   "source": [
    "df_stock.describe()"
   ]
  },
  {
   "cell_type": "code",
   "execution_count": 26,
   "metadata": {},
   "outputs": [],
   "source": [
    "df_stock.to_csv(\"stocks.csv\")"
   ]
  },
  {
   "cell_type": "code",
   "execution_count": 27,
   "metadata": {},
   "outputs": [],
   "source": [
    "dict_country_date_unix = defaultdict(dict)\n",
    "dict_country_date = defaultdict(dict)\n",
    "for (stock, date), row in df_stock[df_stock.date >= datetime(2020,1,1)].set_index([\"stock\", \"date\"]).to_dict(orient='index').items():\n",
    "    dict_country_date_unix[stock][str(int(date.timestamp()*1000))] = row\n",
    "    dict_country_date[stock][str(date.date())] = row"
   ]
  },
  {
   "cell_type": "code",
   "execution_count": 28,
   "metadata": {},
   "outputs": [],
   "source": [
    "with open('datastock_country_date_unix.json', 'w') as fp:\n",
    "    json.dump(dict_country_date_unix, fp)\n",
    "with open('datastock_country_date.json', 'w') as fp:\n",
    "    json.dump(dict_country_date, fp)"
   ]
  },
  {
   "cell_type": "markdown",
   "metadata": {},
   "source": [
    "<a id=\"graphs\"/>"
   ]
  },
  {
   "cell_type": "markdown",
   "metadata": {},
   "source": [
    "#### Come back to the [Back to the top](#top)"
   ]
  },
  {
   "cell_type": "markdown",
   "metadata": {},
   "source": [
    "#### Come back to [Home](FinalProjectReport.ipynb)"
   ]
  }
 ],
 "metadata": {
  "kernelspec": {
   "display_name": "Python 3",
   "language": "python",
   "name": "python3"
  },
  "language_info": {
   "codemirror_mode": {
    "name": "ipython",
    "version": 3
   },
   "file_extension": ".py",
   "mimetype": "text/x-python",
   "name": "python",
   "nbconvert_exporter": "python",
   "pygments_lexer": "ipython3",
   "version": "3.7.4"
  }
 },
 "nbformat": 4,
 "nbformat_minor": 2
}
