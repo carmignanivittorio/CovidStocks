{
 "cells": [
  {
   "cell_type": "markdown",
   "metadata": {},
   "source": [
    "# David and Goliath: How a tiny germ brought the world economy to its knees\n",
    "Mirko Biasini, Vittorio Carmignani, Panagiotis Filianos"
   ]
  },
  {
   "cell_type": "markdown",
   "metadata": {},
   "source": [
    ">The content of this notebook is:\n",
    "\n",
    ">1. Data preparation:\n",
    "    - [GDP Data](DataProcessingGDP.ipynb)\n",
    "    - [Covid Data](DataProcessingCovid.ipynb)\n",
    "    - [Stocks Data](DataProcessingStocks.ipynb)\n",
    ">1. Investigation\n",
    "    - [Covid Investigation](InvestigationCovid.ipynb)\n",
    "    - [Stocks Investigation](InvestigationStocks.ipynb)\n",
    ">1. Further Discussion\n",
    "    - [Visualization Design and Genre](Visualizations.ipynb)\n",
    "    - [Discussion](Discussion.ipynb)\n",
    "    - [Technologies](Technologies.ipynb)\n",
    "    - [Contributions](Contributions.ipynb)"
   ]
  }
 ],
 "metadata": {
  "kernelspec": {
   "display_name": "Python 3",
   "language": "python",
   "name": "python3"
  },
  "language_info": {
   "codemirror_mode": {
    "name": "ipython",
    "version": 3
   },
   "file_extension": ".py",
   "mimetype": "text/x-python",
   "name": "python",
   "nbconvert_exporter": "python",
   "pygments_lexer": "ipython3",
   "version": "3.7.4"
  }
 },
 "nbformat": 4,
 "nbformat_minor": 2
}
