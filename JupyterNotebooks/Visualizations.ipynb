{
 "cells": [
  {
   "cell_type": "markdown",
   "metadata": {},
   "source": [
    "### Come back to [Home](FinalProjectReport.ipynb)"
   ]
  },
  {
   "cell_type": "markdown",
   "metadata": {},
   "source": [
    "# VISUALIZATION DESIGN AND GENRES"
   ]
  },
  {
   "cell_type": "markdown",
   "metadata": {},
   "source": [
    ">The content of this section is:\n",
    ">1. [Choosing Visualizations](#choose) \n",
    ">1. [Deciding on Genres](#genres) "
   ]
  },
  {
   "cell_type": "markdown",
   "metadata": {},
   "source": [
    "<a id=\"choose\"/>"
   ]
  },
  {
   "cell_type": "markdown",
   "metadata": {},
   "source": [
    "## Choosing Visualizations\n",
    "We have unearthed a number of exciting insights, detailed at each analysis notebook. From these, we nominated, several important points, including:\n",
    "* The CNY/EUR forex pair gained 92% of its starting value, strengthening the position of CNY holders vs EUR ones.\n",
    "* Stronger economies show a higher recovery rate. The Chinese and German stock market have regained ~50% of their maximum value over the period. The US indexes have regained ~60% of their highest value over the period.\n",
    "* Donald Trump has gained the highest approval rating throughout his presidency. His narrative and presentation seem beneficial to secure a winning standing on his political base.\n",
    "* Lockdowns are not destructive for the economy if appropriately managed. Sweden, a country without strict social distancing rules, has had a significantly heavier toll without maintaining a strong market standing, when compared to the similar markets of Denmark, Norway and Finland.\n",
    "\n",
    "The major visualizations we will design will be based on displaying these points and encompassing them with other data. Our analysis will be further supported by a small subset of the visualizations presented in the explainer notebooks. These will be independent and added to support the major visualizations.\n",
    "\n",
    "The selected period for all visualizations will be from the 1st of January 2020 to the 30th of April 2020. This period will be called the **selected period**. All financial instrument values will be normalized from the 3rd of March of 2017 until the 11th of May 2020.\n",
    "\n",
    "The aim is for our visualizations to allow users to:\n",
    "* Have an initial overview\n",
    "* Acquire details on demand\n",
    "* Zoom and filter\n",
    "\n",
    "### Major Visualization 1 - Race Bar\n",
    "The race bar visualization will display the number of cases per country on the left side. On the right side of each case bar, there will be an index bar. The index bar will show the normalized value of the Stock Market Index of that country or a related instrument. Additionally, the index bar will display the max value that the instrument reached in the selected period. The visualization will change across time.\n",
    "\n",
    "In that way, the readers will be able to quickly correlate the growth of COVID-19 in specific countries with the correlated worldwide market movements.\n",
    "\n",
    "### Major Visualization 2 - Story Poster\n",
    "The story poster will be comprised of a multitude of sections. On the top, it will include a selector for a specific story. On the left side, there will be a description of the story with a stream of important world events, related to the story. On the right side, there will be COVID-19 statistics for the countries involved in the selected story. In the middle, the users will see a heatmap of cases in the selected story and realtime charting of the interesting financial instruments.\n",
    "\n",
    "The user interface (UI) will not change based on the story and will be controlled by a set of buttons and a timeline bar on the bottom.\n",
    "\n",
    "Through this visualization, we aim to give a platform for readers to explore the story from multiple angles and investigate the movement of assets correlated with COVID-19 data and major events.\n",
    "\n",
    "### Other visualizations\n",
    "##### Normalized Cases vs GDP vs Population for countries\n",
    "This visualization will be on 3D space with visual highlighting. The readers will be able to explore the data points and unearth links between the three dimensions. Additionally, they will be able to zoom, drag and move, as well as select and deselect continents. Finally, they will be able to get details on demand on every data point.\n",
    "\n",
    "##### COVID-19 Confirmed cases worldwide\n",
    "This visualization will include the daily breakdown of new confirmed cases per country. The readers will have control of selecting and deselecting amongst all countries worldwide with COVID-19 cases. Finally, they will be able to get details on demand on every data point.\n",
    "\n",
    "##### Stock Index and Donald Trump's Approval Ratings Correlation Heatmap \n",
    "This visualization will pair major Stock Indexes with Donald Trump's approval ratings. The Indexes with the highest correlation or reverse correlation will be shown. Finally, readers will be able to get details on demand on every data point."
   ]
  },
  {
   "cell_type": "markdown",
   "metadata": {},
   "source": [
    "<a id=\"genres\"/>"
   ]
  },
  {
   "cell_type": "markdown",
   "metadata": {},
   "source": [
    "## Deciding on Genres\n",
    "Here we will be presenting the genres based on Segal and Heer for the major visualizations."
   ]
  },
  {
   "cell_type": "markdown",
   "metadata": {},
   "source": [
    "### Major Visualization 1 - Race Bar\n",
    "* Genre: Paritioned Poster\n",
    "* Visual Narrative:\n",
    " * Visual Structuring: Consistent Visual Platform, Progress Bar/ Time Bar\n",
    "  * Highlighting: Close Ups, Feature Distinction, Motion, Zooming\n",
    "  * Transition Guidance: Object Continuity, Animated Transitions\n",
    "* Narrative Structure:\n",
    " * Ordering: Linear\n",
    " * Interactivity: Hover Highlighting/ Details, Navigation Buttons, Very Limited Interactivity, Stimulating Default Views\n",
    " * Messaging: Captions/Headlines, Annotations, Accompanying Article\n",
    " \n",
    " ### Major Visualization 2 - Story Poster\n",
    "* Genre: Annotated Chart\n",
    "* Visual Narrative:\n",
    " * Visual Structuring: Consistent Visual Platform, Progress Bar/ Time Bar\n",
    "  * Highlighting: Close Ups, Feature Distinction, Motion, Zooming\n",
    "  * Transition Guidance: Familiar Objects (but still cuts), Object Continuity, Continuity Editing, Animated Transitions\n",
    "* Narrative Structure:\n",
    " * Ordering: Random Access, User Directed Path, Linear\n",
    " * Interactivity: Hover Highlighting/ Details, Navigation Buttons\n",
    " * Messaging: Captions/Headlines, Annotations, Accompanying Article, Multi-messaging, Summary/Synthesis"
   ]
  },
  {
   "cell_type": "code",
   "execution_count": null,
   "metadata": {},
   "outputs": [],
   "source": []
  }
 ],
 "metadata": {
  "kernelspec": {
   "display_name": "Python 3",
   "language": "python",
   "name": "python3"
  },
  "language_info": {
   "codemirror_mode": {
    "name": "ipython",
    "version": 3
   },
   "file_extension": ".py",
   "mimetype": "text/x-python",
   "name": "python",
   "nbconvert_exporter": "python",
   "pygments_lexer": "ipython3",
   "version": "3.7.4"
  }
 },
 "nbformat": 4,
 "nbformat_minor": 4
}
