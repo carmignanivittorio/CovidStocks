{
 "cells": [
  {
   "cell_type": "markdown",
   "metadata": {},
   "source": [
    "### Come back to [Home](FinalProjectReport.ipynb)"
   ]
  },
  {
   "cell_type": "markdown",
   "metadata": {},
   "source": [
    "# CONTRIBUTIONS\n",
    "We consider our contributions to be equal. That said, we recongnize the requirements to display this in more detail, so here we go:\n",
    "* Data Preparation\n",
    " * GDP: Vittorio Carmignani\n",
    " * COVID-19: Vittorio Carmignani\n",
    " * Stocks: Panagiotis Filianos, Vittorio Carmigani\n",
    "* Investigation:\n",
    " * Covid Investigation: Mirko Biasini, Vittorio Carmignani\n",
    " * Stocks Investigation: Vittorio Carmignani, Panagiotis Filianos\n",
    "* Website:\n",
    " * Racebar Visualization: Mirko Biasini, Vittorio Carmignani\n",
    " * Story Visualization: Panagiotis Filianos, Vittorio Carmignani\n",
    " * Analysis: Mirko Biasini, Panagiotis Filianos, Vittorio Carmignani\n",
    " * Layout & Design: Panagiotis Filianos\n",
    "* Further Discussion:\n",
    " * Visualization Design and Genre: Mirko Biasini, Panagiotis Filianos\n",
    " * Discussion: Panagiotis Filianos, Mirko Biasini\n",
    "\n",
    "Please keep in mind that the order of the names does not display differences in contribution."
   ]
  },
  {
   "cell_type": "code",
   "execution_count": null,
   "metadata": {},
   "outputs": [],
   "source": []
  }
 ],
 "metadata": {
  "kernelspec": {
   "display_name": "Python 3",
   "language": "python",
   "name": "python3"
  },
  "language_info": {
   "codemirror_mode": {
    "name": "ipython",
    "version": 3
   },
   "file_extension": ".py",
   "mimetype": "text/x-python",
   "name": "python",
   "nbconvert_exporter": "python",
   "pygments_lexer": "ipython3",
   "version": "3.7.4"
  }
 },
 "nbformat": 4,
 "nbformat_minor": 4
}
