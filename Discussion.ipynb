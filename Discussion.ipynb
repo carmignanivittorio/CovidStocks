{
 "cells": [
  {
   "cell_type": "markdown",
   "metadata": {},
   "source": [
    "### Come back to [Home](FinalProjectReport.ipynb)"
   ]
  },
  {
   "cell_type": "markdown",
   "metadata": {},
   "source": [
    "# DISCUSSION\n",
    "The present project displays the distilled products of the most rigorous work we could produce with the limited time we've set out with. Granted this, we consider our analysis to be complete within the scope.\n",
    "\n",
    "This comes with the caveat that the work required was of an integer multiple of time than the allotted. Shortly, there are a lot of exciting things to do, and instead of prioritisation, we opted to analyse the most that were humanly possible. This is not necessarily a proper approach for research.\n",
    "\n",
    "Additionally, we would have liked to make more explicit the possibilities for further research, dedicating a complete section for it (this hurts especially in the case of the financial movement of the oil war between Russia and Saidu Arabia), instead of spreading that insight across notebooks.\n",
    "\n",
    "Finally, we consider this project to be a success. We came in contact with a multitude of [tools and technologies](Technologies.ipynb) for data visualisation, and we were able to generate meaningful insight. Furthermore, we stuck by our controversial research questions which can be summarised as:\n",
    "\n",
    "> Could China have benefited from COVID-19? If yes, how? If no, who benefits from that narrative?\n",
    "\n",
    "This was very important as we see the world events validating these questions and render their answers as a requirement in the public forum. Here, we would like to reiterate that we consider no question without an answer to be outside of the scope of scientific research as long as the methods of its exploration are ethical and the researchers are honestly presenting their contribution."
   ]
  },
  {
   "cell_type": "code",
   "execution_count": null,
   "metadata": {},
   "outputs": [],
   "source": []
  }
 ],
 "metadata": {
  "kernelspec": {
   "display_name": "Python 3",
   "language": "python",
   "name": "python3"
  },
  "language_info": {
   "codemirror_mode": {
    "name": "ipython",
    "version": 3
   },
   "file_extension": ".py",
   "mimetype": "text/x-python",
   "name": "python",
   "nbconvert_exporter": "python",
   "pygments_lexer": "ipython3",
   "version": "3.7.4"
  }
 },
 "nbformat": 4,
 "nbformat_minor": 4
}
