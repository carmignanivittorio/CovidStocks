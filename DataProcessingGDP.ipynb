{
 "cells": [
  {
   "cell_type": "markdown",
   "metadata": {},
   "source": [
    "<a id=\"top\"/>"
   ]
  },
  {
   "cell_type": "markdown",
   "metadata": {},
   "source": [
    "\n",
    "### Come back to [Home](FinalProjectReport.ipynb)\n"
   ]
  },
  {
   "cell_type": "markdown",
   "metadata": {},
   "source": [
    "# GDP PROCESSING"
   ]
  },
  {
   "cell_type": "markdown",
   "metadata": {},
   "source": [
    ">The content of this section is:\n",
    ">1. [Choosing and Obtaining data](#obtain) \n",
    ">1. [Data processing](#proc) \n",
    ">1. [Dataset's stats](#stats)"
   ]
  },
  {
   "cell_type": "markdown",
   "metadata": {},
   "source": [
    ">Here we import the modules that we will need in order to extract the data to manipulate them "
   ]
  },
  {
   "cell_type": "code",
   "execution_count": 1,
   "metadata": {},
   "outputs": [],
   "source": [
    "import pandas as pd\n",
    "import numpy as np\n",
    "import csv\n",
    "import json\n",
    "import country_converter as coco"
   ]
  },
  {
   "cell_type": "markdown",
   "metadata": {},
   "source": [
    ">In this section we perform the initial preprocessing of the data to a shape which is best for use in further analysis. We will show:\n",
    "* where we obtain our data\n",
    "* convert the data to a form that it will be easier to use"
   ]
  },
  {
   "cell_type": "markdown",
   "metadata": {},
   "source": [
    "## Choosing the dataset and obtaining it\n",
    "> We decided to correlate COVID-19 and Market data with national GDP values as it allows to have extended overview on how GDP can affect the number of cases and deaths and to give insight into wether further analysis on testing is required.\n",
    "\n",
    "> We obtained GDP per capita (current US) for each country using the [World Bank Data](https://data.worldbank.org/indicator/NY.GDP.PCAP.CD?view=map). Which contain all the values since 1960 to 2019."
   ]
  },
  {
   "cell_type": "code",
   "execution_count": 2,
   "metadata": {},
   "outputs": [
    {
     "data": {
      "text/html": [
       "<div>\n",
       "<style scoped>\n",
       "    .dataframe tbody tr th:only-of-type {\n",
       "        vertical-align: middle;\n",
       "    }\n",
       "\n",
       "    .dataframe tbody tr th {\n",
       "        vertical-align: top;\n",
       "    }\n",
       "\n",
       "    .dataframe thead th {\n",
       "        text-align: right;\n",
       "    }\n",
       "</style>\n",
       "<table border=\"1\" class=\"dataframe\">\n",
       "  <thead>\n",
       "    <tr style=\"text-align: right;\">\n",
       "      <th></th>\n",
       "      <th>Country Name</th>\n",
       "      <th>Country Code</th>\n",
       "      <th>Indicator Name</th>\n",
       "      <th>Indicator Code</th>\n",
       "      <th>1960</th>\n",
       "      <th>1961</th>\n",
       "      <th>1962</th>\n",
       "      <th>1963</th>\n",
       "      <th>1964</th>\n",
       "      <th>1965</th>\n",
       "      <th>...</th>\n",
       "      <th>2011</th>\n",
       "      <th>2012</th>\n",
       "      <th>2013</th>\n",
       "      <th>2014</th>\n",
       "      <th>2015</th>\n",
       "      <th>2016</th>\n",
       "      <th>2017</th>\n",
       "      <th>2018</th>\n",
       "      <th>2019</th>\n",
       "      <th>Unnamed: 64</th>\n",
       "    </tr>\n",
       "  </thead>\n",
       "  <tbody>\n",
       "    <tr>\n",
       "      <td>0</td>\n",
       "      <td>Aruba</td>\n",
       "      <td>ABW</td>\n",
       "      <td>GDP per capita (current US$)</td>\n",
       "      <td>NY.GDP.PCAP.CD</td>\n",
       "      <td>NaN</td>\n",
       "      <td>NaN</td>\n",
       "      <td>NaN</td>\n",
       "      <td>NaN</td>\n",
       "      <td>NaN</td>\n",
       "      <td>NaN</td>\n",
       "      <td>...</td>\n",
       "      <td>24985.993281</td>\n",
       "      <td>24713.698045</td>\n",
       "      <td>25025.099563</td>\n",
       "      <td>25533.56978</td>\n",
       "      <td>25796.380251</td>\n",
       "      <td>25239.600411</td>\n",
       "      <td>25630.266492</td>\n",
       "      <td>NaN</td>\n",
       "      <td>NaN</td>\n",
       "      <td>NaN</td>\n",
       "    </tr>\n",
       "  </tbody>\n",
       "</table>\n",
       "<p>1 rows × 65 columns</p>\n",
       "</div>"
      ],
      "text/plain": [
       "  Country Name Country Code                Indicator Name  Indicator Code  \\\n",
       "0        Aruba          ABW  GDP per capita (current US$)  NY.GDP.PCAP.CD   \n",
       "\n",
       "   1960  1961  1962  1963  1964  1965  ...          2011          2012  \\\n",
       "0   NaN   NaN   NaN   NaN   NaN   NaN  ...  24985.993281  24713.698045   \n",
       "\n",
       "           2013         2014          2015          2016          2017  2018  \\\n",
       "0  25025.099563  25533.56978  25796.380251  25239.600411  25630.266492   NaN   \n",
       "\n",
       "   2019  Unnamed: 64  \n",
       "0   NaN          NaN  \n",
       "\n",
       "[1 rows x 65 columns]"
      ]
     },
     "execution_count": 2,
     "metadata": {},
     "output_type": "execute_result"
    }
   ],
   "source": [
    "df = pd.read_csv('gdp_csv.csv')\n",
    "df.head(1)"
   ]
  },
  {
   "cell_type": "code",
   "execution_count": 3,
   "metadata": {},
   "outputs": [
    {
     "data": {
      "text/plain": [
       "(264, 65)"
      ]
     },
     "execution_count": 3,
     "metadata": {},
     "output_type": "execute_result"
    }
   ],
   "source": [
    "df.shape"
   ]
  },
  {
   "cell_type": "markdown",
   "metadata": {},
   "source": [
    "<a id=\"proc\"/>"
   ]
  },
  {
   "cell_type": "markdown",
   "metadata": {},
   "source": [
    "## Data processing\n",
    "> Once the data are downloaded, we are going to perform the following actions:\n",
    "  - melt the dataset such that we have only one column 'year' (instead of having one column per each year) \n",
    "  - keep the most updated gdp per each country\n",
    "  - change the country code from alpha3 to alpha2\n",
    "  - remove the columns which are not useful"
   ]
  },
  {
   "cell_type": "markdown",
   "metadata": {},
   "source": [
    "Here we melt the dataset such that we have only one column 'year' (instead of having one column per each year) "
   ]
  },
  {
   "cell_type": "code",
   "execution_count": 4,
   "metadata": {},
   "outputs": [],
   "source": [
    "df = pd.melt(df, id_vars=['Country Name', 'Country Code', 'Indicator Name', 'Indicator Code'], value_vars=[str(i) for i in range(1960, 2020)], var_name='gdp_year', value_name='gdp')"
   ]
  },
  {
   "cell_type": "code",
   "execution_count": 5,
   "metadata": {},
   "outputs": [
    {
     "data": {
      "text/html": [
       "<div>\n",
       "<style scoped>\n",
       "    .dataframe tbody tr th:only-of-type {\n",
       "        vertical-align: middle;\n",
       "    }\n",
       "\n",
       "    .dataframe tbody tr th {\n",
       "        vertical-align: top;\n",
       "    }\n",
       "\n",
       "    .dataframe thead th {\n",
       "        text-align: right;\n",
       "    }\n",
       "</style>\n",
       "<table border=\"1\" class=\"dataframe\">\n",
       "  <thead>\n",
       "    <tr style=\"text-align: right;\">\n",
       "      <th></th>\n",
       "      <th>Country Name</th>\n",
       "      <th>Country Code</th>\n",
       "      <th>Indicator Name</th>\n",
       "      <th>Indicator Code</th>\n",
       "      <th>gdp_year</th>\n",
       "      <th>gdp</th>\n",
       "    </tr>\n",
       "  </thead>\n",
       "  <tbody>\n",
       "    <tr>\n",
       "      <td>0</td>\n",
       "      <td>Aruba</td>\n",
       "      <td>ABW</td>\n",
       "      <td>GDP per capita (current US$)</td>\n",
       "      <td>NY.GDP.PCAP.CD</td>\n",
       "      <td>1960</td>\n",
       "      <td>NaN</td>\n",
       "    </tr>\n",
       "  </tbody>\n",
       "</table>\n",
       "</div>"
      ],
      "text/plain": [
       "  Country Name Country Code                Indicator Name  Indicator Code  \\\n",
       "0        Aruba          ABW  GDP per capita (current US$)  NY.GDP.PCAP.CD   \n",
       "\n",
       "  gdp_year  gdp  \n",
       "0     1960  NaN  "
      ]
     },
     "execution_count": 5,
     "metadata": {},
     "output_type": "execute_result"
    }
   ],
   "source": [
    "df.head(1)"
   ]
  },
  {
   "cell_type": "code",
   "execution_count": 6,
   "metadata": {},
   "outputs": [
    {
     "data": {
      "text/plain": [
       "(15840, 6)"
      ]
     },
     "execution_count": 6,
     "metadata": {},
     "output_type": "execute_result"
    }
   ],
   "source": [
    "df.shape"
   ]
  },
  {
   "cell_type": "markdown",
   "metadata": {},
   "source": [
    "Let's keep the most updated gdp per each country"
   ]
  },
  {
   "cell_type": "code",
   "execution_count": 7,
   "metadata": {},
   "outputs": [],
   "source": [
    "df = df.dropna()\n",
    "df['max_year'] = df.groupby(['Country Code'])['gdp_year'].transform(max)\n",
    "df = df[df.gdp_year == df.max_year].drop(['max_year'], axis=1)"
   ]
  },
  {
   "cell_type": "code",
   "execution_count": 8,
   "metadata": {},
   "outputs": [
    {
     "data": {
      "text/plain": [
       "(258, 6)"
      ]
     },
     "execution_count": 8,
     "metadata": {},
     "output_type": "execute_result"
    }
   ],
   "source": [
    "df.shape"
   ]
  },
  {
   "cell_type": "markdown",
   "metadata": {},
   "source": [
    "Now we change the country code from the alpha3 format to the alpha2. This is because in the covid dataset is used the latter."
   ]
  },
  {
   "cell_type": "code",
   "execution_count": 9,
   "metadata": {},
   "outputs": [],
   "source": [
    "def get_country_code_alpha2(alpha3):\n",
    "    return coco.convert(names=alpha3, to='ISO2', not_found=np.nan)"
   ]
  },
  {
   "cell_type": "code",
   "execution_count": 10,
   "metadata": {},
   "outputs": [
    {
     "name": "stderr",
     "output_type": "stream",
     "text": [
      "WARNING:root:CHI not found in ISO3\n",
      "WARNING:root:MNA not found in ISO3\n",
      "WARNING:root:TMN not found in ISO3\n",
      "WARNING:root:ARB not found in ISO3\n",
      "WARNING:root:CEB not found in ISO3\n",
      "WARNING:root:CSS not found in ISO3\n",
      "WARNING:root:EAP not found in ISO3\n",
      "WARNING:root:EAR not found in ISO3\n",
      "WARNING:root:EAS not found in ISO3\n",
      "WARNING:root:ECA not found in ISO3\n",
      "WARNING:root:ECS not found in ISO3\n",
      "WARNING:root:EMU not found in ISO3\n",
      "WARNING:root:EUU not found in ISO3\n",
      "WARNING:root:FCS not found in ISO3\n",
      "WARNING:root:HIC not found in ISO3\n",
      "WARNING:root:HPC not found in ISO3\n",
      "WARNING:root:IBD not found in ISO3\n",
      "WARNING:root:IBT not found in ISO3\n",
      "WARNING:root:IDA not found in ISO3\n",
      "WARNING:root:IDB not found in ISO3\n",
      "WARNING:root:IDX not found in ISO3\n",
      "WARNING:root:LAC not found in ISO3\n",
      "WARNING:root:LCN not found in ISO3\n",
      "WARNING:root:LDC not found in ISO3\n",
      "WARNING:root:LIC not found in ISO3\n",
      "WARNING:root:LMC not found in ISO3\n",
      "WARNING:root:LMY not found in ISO3\n",
      "WARNING:root:LTE not found in ISO3\n",
      "WARNING:root:MEA not found in ISO3\n",
      "WARNING:root:MIC not found in ISO3\n",
      "WARNING:root:NAC not found in ISO3\n",
      "WARNING:root:OED not found in ISO3\n",
      "WARNING:root:OSS not found in ISO3\n",
      "WARNING:root:PRE not found in ISO3\n",
      "WARNING:root:PSS not found in ISO3\n",
      "WARNING:root:PST not found in ISO3\n",
      "WARNING:root:SAS not found in ISO3\n",
      "WARNING:root:SSA not found in ISO3\n",
      "WARNING:root:SSF not found in ISO3\n",
      "WARNING:root:SST not found in ISO3\n",
      "WARNING:root:TEA not found in ISO3\n",
      "WARNING:root:TEC not found in ISO3\n",
      "WARNING:root:TLA not found in ISO3\n",
      "WARNING:root:TSA not found in ISO3\n",
      "WARNING:root:TSS not found in ISO3\n",
      "WARNING:root:UMC not found in ISO3\n",
      "WARNING:root:WLD not found in ISO3\n"
     ]
    }
   ],
   "source": [
    "df['countryCode'] = df['Country Code'].apply(get_country_code_alpha2)"
   ]
  },
  {
   "cell_type": "markdown",
   "metadata": {},
   "source": [
    "As you can see there are many warnings due to the fact that the dataset contains the gdp of set of countries, continents and other types of which we not interested in."
   ]
  },
  {
   "cell_type": "markdown",
   "metadata": {},
   "source": [
    "Finally we remove nan values and the not useful columns."
   ]
  },
  {
   "cell_type": "code",
   "execution_count": 11,
   "metadata": {},
   "outputs": [],
   "source": [
    "df = df.drop(columns=['Country Name', 'Indicator Name', 'Indicator Code'], axis=1).dropna()\n",
    "df = df.rename(columns={'Country Code': 'countryCode3'})"
   ]
  },
  {
   "cell_type": "code",
   "execution_count": 12,
   "metadata": {},
   "outputs": [],
   "source": [
    "df = df.sort_values(by='gdp', ascending=False).reset_index(drop=True)"
   ]
  },
  {
   "cell_type": "markdown",
   "metadata": {},
   "source": [
    "<a id=\"stats\"/>"
   ]
  },
  {
   "cell_type": "markdown",
   "metadata": {},
   "source": [
    "## Dataset's stats"
   ]
  },
  {
   "cell_type": "code",
   "execution_count": 13,
   "metadata": {},
   "outputs": [],
   "source": [
    "get_number_unique_values = lambda df, col: len(df[col].unique())\n",
    "def print_info(df, main_feature):\n",
    "    print(\"Number of %s:\" % main_feature, get_number_unique_values(df, main_feature))\n",
    "    features = df.columns.to_list()\n",
    "    print(\"\\nWe have %d features:\" % len(features), features)\n",
    "    print(\"\\nThe total number of (rows, cols) is:\", df.shape)\n",
    "    print(\"\\nIn memory occupies: ~%d MB\\n\" % (df.memory_usage(index=True).sum() / (2**16)))\n",
    "    print(df.head(1))"
   ]
  },
  {
   "cell_type": "markdown",
   "metadata": {},
   "source": [
    "### Original Dataset"
   ]
  },
  {
   "cell_type": "code",
   "execution_count": 14,
   "metadata": {},
   "outputs": [],
   "source": [
    "df_ori = pd.read_csv('gdp_csv.csv')"
   ]
  },
  {
   "cell_type": "code",
   "execution_count": 15,
   "metadata": {},
   "outputs": [
    {
     "name": "stdout",
     "output_type": "stream",
     "text": [
      "Number of Country Name: 264\n",
      "\n",
      "We have 65 features: ['Country Name', 'Country Code', 'Indicator Name', 'Indicator Code', '1960', '1961', '1962', '1963', '1964', '1965', '1966', '1967', '1968', '1969', '1970', '1971', '1972', '1973', '1974', '1975', '1976', '1977', '1978', '1979', '1980', '1981', '1982', '1983', '1984', '1985', '1986', '1987', '1988', '1989', '1990', '1991', '1992', '1993', '1994', '1995', '1996', '1997', '1998', '1999', '2000', '2001', '2002', '2003', '2004', '2005', '2006', '2007', '2008', '2009', '2010', '2011', '2012', '2013', '2014', '2015', '2016', '2017', '2018', '2019', 'Unnamed: 64']\n",
      "\n",
      "The total number of (rows, cols) is: (264, 65)\n",
      "\n",
      "In memory occupies: ~2 MB\n",
      "\n",
      "  Country Name Country Code                Indicator Name  Indicator Code  \\\n",
      "0        Aruba          ABW  GDP per capita (current US$)  NY.GDP.PCAP.CD   \n",
      "\n",
      "   1960  1961  1962  1963  1964  1965  ...          2011          2012  \\\n",
      "0   NaN   NaN   NaN   NaN   NaN   NaN  ...  24985.993281  24713.698045   \n",
      "\n",
      "           2013         2014          2015          2016          2017  2018  \\\n",
      "0  25025.099563  25533.56978  25796.380251  25239.600411  25630.266492   NaN   \n",
      "\n",
      "   2019  Unnamed: 64  \n",
      "0   NaN          NaN  \n",
      "\n",
      "[1 rows x 65 columns]\n"
     ]
    }
   ],
   "source": [
    "print_info(df_ori, \"Country Name\")"
   ]
  },
  {
   "cell_type": "code",
   "execution_count": 16,
   "metadata": {},
   "outputs": [
    {
     "data": {
      "text/html": [
       "<div>\n",
       "<style scoped>\n",
       "    .dataframe tbody tr th:only-of-type {\n",
       "        vertical-align: middle;\n",
       "    }\n",
       "\n",
       "    .dataframe tbody tr th {\n",
       "        vertical-align: top;\n",
       "    }\n",
       "\n",
       "    .dataframe thead th {\n",
       "        text-align: right;\n",
       "    }\n",
       "</style>\n",
       "<table border=\"1\" class=\"dataframe\">\n",
       "  <thead>\n",
       "    <tr style=\"text-align: right;\">\n",
       "      <th></th>\n",
       "      <th>1960</th>\n",
       "      <th>1961</th>\n",
       "      <th>1962</th>\n",
       "      <th>1963</th>\n",
       "      <th>1964</th>\n",
       "      <th>1965</th>\n",
       "      <th>1966</th>\n",
       "      <th>1967</th>\n",
       "      <th>1968</th>\n",
       "      <th>1969</th>\n",
       "      <th>...</th>\n",
       "      <th>2011</th>\n",
       "      <th>2012</th>\n",
       "      <th>2013</th>\n",
       "      <th>2014</th>\n",
       "      <th>2015</th>\n",
       "      <th>2016</th>\n",
       "      <th>2017</th>\n",
       "      <th>2018</th>\n",
       "      <th>2019</th>\n",
       "      <th>Unnamed: 64</th>\n",
       "    </tr>\n",
       "  </thead>\n",
       "  <tbody>\n",
       "    <tr>\n",
       "      <td>count</td>\n",
       "      <td>132.000000</td>\n",
       "      <td>132.000000</td>\n",
       "      <td>134.000000</td>\n",
       "      <td>134.000000</td>\n",
       "      <td>134.000000</td>\n",
       "      <td>144.000000</td>\n",
       "      <td>147.000000</td>\n",
       "      <td>150.000000</td>\n",
       "      <td>154.000000</td>\n",
       "      <td>154.000000</td>\n",
       "      <td>...</td>\n",
       "      <td>253.000000</td>\n",
       "      <td>252.000000</td>\n",
       "      <td>253.000000</td>\n",
       "      <td>252.000000</td>\n",
       "      <td>251.000000</td>\n",
       "      <td>250.000000</td>\n",
       "      <td>247.000000</td>\n",
       "      <td>239.000000</td>\n",
       "      <td>0.0</td>\n",
       "      <td>0.0</td>\n",
       "    </tr>\n",
       "    <tr>\n",
       "      <td>mean</td>\n",
       "      <td>484.657093</td>\n",
       "      <td>504.015717</td>\n",
       "      <td>529.605145</td>\n",
       "      <td>562.032811</td>\n",
       "      <td>610.188657</td>\n",
       "      <td>677.155901</td>\n",
       "      <td>734.049490</td>\n",
       "      <td>750.651535</td>\n",
       "      <td>770.136932</td>\n",
       "      <td>834.474792</td>\n",
       "      <td>...</td>\n",
       "      <td>16133.575074</td>\n",
       "      <td>16051.403267</td>\n",
       "      <td>16588.098623</td>\n",
       "      <td>16592.881960</td>\n",
       "      <td>14960.419108</td>\n",
       "      <td>15089.966357</td>\n",
       "      <td>14918.158187</td>\n",
       "      <td>15115.093976</td>\n",
       "      <td>NaN</td>\n",
       "      <td>NaN</td>\n",
       "    </tr>\n",
       "    <tr>\n",
       "      <td>std</td>\n",
       "      <td>618.234795</td>\n",
       "      <td>644.142567</td>\n",
       "      <td>675.552712</td>\n",
       "      <td>715.847268</td>\n",
       "      <td>782.824554</td>\n",
       "      <td>874.410998</td>\n",
       "      <td>945.920760</td>\n",
       "      <td>977.392321</td>\n",
       "      <td>1008.953075</td>\n",
       "      <td>1086.440709</td>\n",
       "      <td>...</td>\n",
       "      <td>24178.276523</td>\n",
       "      <td>23380.427690</td>\n",
       "      <td>24934.219232</td>\n",
       "      <td>25312.160011</td>\n",
       "      <td>22674.148159</td>\n",
       "      <td>22856.559361</td>\n",
       "      <td>21318.087315</td>\n",
       "      <td>22219.914937</td>\n",
       "      <td>NaN</td>\n",
       "      <td>NaN</td>\n",
       "    </tr>\n",
       "    <tr>\n",
       "      <td>min</td>\n",
       "      <td>40.537115</td>\n",
       "      <td>40.689390</td>\n",
       "      <td>34.790581</td>\n",
       "      <td>40.752237</td>\n",
       "      <td>41.083814</td>\n",
       "      <td>45.989354</td>\n",
       "      <td>37.488783</td>\n",
       "      <td>46.642770</td>\n",
       "      <td>48.784045</td>\n",
       "      <td>51.794609</td>\n",
       "      <td>...</td>\n",
       "      <td>249.577979</td>\n",
       "      <td>252.358980</td>\n",
       "      <td>256.976003</td>\n",
       "      <td>274.857948</td>\n",
       "      <td>293.455236</td>\n",
       "      <td>282.193130</td>\n",
       "      <td>292.997631</td>\n",
       "      <td>271.752044</td>\n",
       "      <td>NaN</td>\n",
       "      <td>NaN</td>\n",
       "    </tr>\n",
       "    <tr>\n",
       "      <td>25%</td>\n",
       "      <td>106.517055</td>\n",
       "      <td>109.112110</td>\n",
       "      <td>114.355157</td>\n",
       "      <td>122.754509</td>\n",
       "      <td>124.090568</td>\n",
       "      <td>140.376734</td>\n",
       "      <td>145.767969</td>\n",
       "      <td>157.983788</td>\n",
       "      <td>159.262062</td>\n",
       "      <td>161.937705</td>\n",
       "      <td>...</td>\n",
       "      <td>1739.148780</td>\n",
       "      <td>1905.937468</td>\n",
       "      <td>2004.504298</td>\n",
       "      <td>2104.200853</td>\n",
       "      <td>2067.475587</td>\n",
       "      <td>2124.675302</td>\n",
       "      <td>2042.465642</td>\n",
       "      <td>2032.214332</td>\n",
       "      <td>NaN</td>\n",
       "      <td>NaN</td>\n",
       "    </tr>\n",
       "    <tr>\n",
       "      <td>50%</td>\n",
       "      <td>225.669856</td>\n",
       "      <td>209.908521</td>\n",
       "      <td>229.024563</td>\n",
       "      <td>244.612208</td>\n",
       "      <td>249.981372</td>\n",
       "      <td>269.363680</td>\n",
       "      <td>277.233872</td>\n",
       "      <td>278.460057</td>\n",
       "      <td>291.141585</td>\n",
       "      <td>305.373736</td>\n",
       "      <td>...</td>\n",
       "      <td>6045.495551</td>\n",
       "      <td>6557.846749</td>\n",
       "      <td>6832.456891</td>\n",
       "      <td>6640.856256</td>\n",
       "      <td>6124.491643</td>\n",
       "      <td>5924.917489</td>\n",
       "      <td>6213.501276</td>\n",
       "      <td>6385.461626</td>\n",
       "      <td>NaN</td>\n",
       "      <td>NaN</td>\n",
       "    </tr>\n",
       "    <tr>\n",
       "      <td>75%</td>\n",
       "      <td>481.584427</td>\n",
       "      <td>523.724552</td>\n",
       "      <td>598.375139</td>\n",
       "      <td>603.188391</td>\n",
       "      <td>677.406317</td>\n",
       "      <td>783.039774</td>\n",
       "      <td>882.906899</td>\n",
       "      <td>875.547972</td>\n",
       "      <td>805.809962</td>\n",
       "      <td>860.595621</td>\n",
       "      <td>...</td>\n",
       "      <td>19034.149197</td>\n",
       "      <td>19300.530405</td>\n",
       "      <td>19916.019387</td>\n",
       "      <td>19462.312835</td>\n",
       "      <td>17106.400142</td>\n",
       "      <td>17821.571228</td>\n",
       "      <td>17136.270746</td>\n",
       "      <td>17203.941600</td>\n",
       "      <td>NaN</td>\n",
       "      <td>NaN</td>\n",
       "    </tr>\n",
       "    <tr>\n",
       "      <td>max</td>\n",
       "      <td>3007.123445</td>\n",
       "      <td>3066.562869</td>\n",
       "      <td>3243.843078</td>\n",
       "      <td>3374.515171</td>\n",
       "      <td>3573.941185</td>\n",
       "      <td>4443.405272</td>\n",
       "      <td>4571.181955</td>\n",
       "      <td>4336.426587</td>\n",
       "      <td>4695.923390</td>\n",
       "      <td>5032.144743</td>\n",
       "      <td>...</td>\n",
       "      <td>168785.940809</td>\n",
       "      <td>157515.899069</td>\n",
       "      <td>177593.351895</td>\n",
       "      <td>189170.895671</td>\n",
       "      <td>167290.939984</td>\n",
       "      <td>169915.804840</td>\n",
       "      <td>167101.759377</td>\n",
       "      <td>185741.279992</td>\n",
       "      <td>NaN</td>\n",
       "      <td>NaN</td>\n",
       "    </tr>\n",
       "  </tbody>\n",
       "</table>\n",
       "<p>8 rows × 61 columns</p>\n",
       "</div>"
      ],
      "text/plain": [
       "              1960         1961         1962         1963         1964  \\\n",
       "count   132.000000   132.000000   134.000000   134.000000   134.000000   \n",
       "mean    484.657093   504.015717   529.605145   562.032811   610.188657   \n",
       "std     618.234795   644.142567   675.552712   715.847268   782.824554   \n",
       "min      40.537115    40.689390    34.790581    40.752237    41.083814   \n",
       "25%     106.517055   109.112110   114.355157   122.754509   124.090568   \n",
       "50%     225.669856   209.908521   229.024563   244.612208   249.981372   \n",
       "75%     481.584427   523.724552   598.375139   603.188391   677.406317   \n",
       "max    3007.123445  3066.562869  3243.843078  3374.515171  3573.941185   \n",
       "\n",
       "              1965         1966         1967         1968         1969  ...  \\\n",
       "count   144.000000   147.000000   150.000000   154.000000   154.000000  ...   \n",
       "mean    677.155901   734.049490   750.651535   770.136932   834.474792  ...   \n",
       "std     874.410998   945.920760   977.392321  1008.953075  1086.440709  ...   \n",
       "min      45.989354    37.488783    46.642770    48.784045    51.794609  ...   \n",
       "25%     140.376734   145.767969   157.983788   159.262062   161.937705  ...   \n",
       "50%     269.363680   277.233872   278.460057   291.141585   305.373736  ...   \n",
       "75%     783.039774   882.906899   875.547972   805.809962   860.595621  ...   \n",
       "max    4443.405272  4571.181955  4336.426587  4695.923390  5032.144743  ...   \n",
       "\n",
       "                2011           2012           2013           2014  \\\n",
       "count     253.000000     252.000000     253.000000     252.000000   \n",
       "mean    16133.575074   16051.403267   16588.098623   16592.881960   \n",
       "std     24178.276523   23380.427690   24934.219232   25312.160011   \n",
       "min       249.577979     252.358980     256.976003     274.857948   \n",
       "25%      1739.148780    1905.937468    2004.504298    2104.200853   \n",
       "50%      6045.495551    6557.846749    6832.456891    6640.856256   \n",
       "75%     19034.149197   19300.530405   19916.019387   19462.312835   \n",
       "max    168785.940809  157515.899069  177593.351895  189170.895671   \n",
       "\n",
       "                2015           2016           2017           2018  2019  \\\n",
       "count     251.000000     250.000000     247.000000     239.000000   0.0   \n",
       "mean    14960.419108   15089.966357   14918.158187   15115.093976   NaN   \n",
       "std     22674.148159   22856.559361   21318.087315   22219.914937   NaN   \n",
       "min       293.455236     282.193130     292.997631     271.752044   NaN   \n",
       "25%      2067.475587    2124.675302    2042.465642    2032.214332   NaN   \n",
       "50%      6124.491643    5924.917489    6213.501276    6385.461626   NaN   \n",
       "75%     17106.400142   17821.571228   17136.270746   17203.941600   NaN   \n",
       "max    167290.939984  169915.804840  167101.759377  185741.279992   NaN   \n",
       "\n",
       "       Unnamed: 64  \n",
       "count          0.0  \n",
       "mean           NaN  \n",
       "std            NaN  \n",
       "min            NaN  \n",
       "25%            NaN  \n",
       "50%            NaN  \n",
       "75%            NaN  \n",
       "max            NaN  \n",
       "\n",
       "[8 rows x 61 columns]"
      ]
     },
     "execution_count": 16,
     "metadata": {},
     "output_type": "execute_result"
    }
   ],
   "source": [
    "df_ori.describe()"
   ]
  },
  {
   "cell_type": "markdown",
   "metadata": {},
   "source": [
    "### Processed Dataset"
   ]
  },
  {
   "cell_type": "code",
   "execution_count": 17,
   "metadata": {
    "scrolled": true
   },
   "outputs": [
    {
     "name": "stdout",
     "output_type": "stream",
     "text": [
      "Number of countryCode: 211\n",
      "\n",
      "We have 4 features: ['countryCode3', 'gdp_year', 'gdp', 'countryCode']\n",
      "\n",
      "The total number of (rows, cols) is: (211, 4)\n",
      "\n",
      "In memory occupies: ~0 MB\n",
      "\n",
      "  countryCode3 gdp_year            gdp countryCode\n",
      "0          MCO     2018  185741.279992          MC\n"
     ]
    }
   ],
   "source": [
    "print_info(df, \"countryCode\")"
   ]
  },
  {
   "cell_type": "code",
   "execution_count": 18,
   "metadata": {},
   "outputs": [
    {
     "data": {
      "text/html": [
       "<div>\n",
       "<style scoped>\n",
       "    .dataframe tbody tr th:only-of-type {\n",
       "        vertical-align: middle;\n",
       "    }\n",
       "\n",
       "    .dataframe tbody tr th {\n",
       "        vertical-align: top;\n",
       "    }\n",
       "\n",
       "    .dataframe thead th {\n",
       "        text-align: right;\n",
       "    }\n",
       "</style>\n",
       "<table border=\"1\" class=\"dataframe\">\n",
       "  <thead>\n",
       "    <tr style=\"text-align: right;\">\n",
       "      <th></th>\n",
       "      <th>gdp</th>\n",
       "    </tr>\n",
       "  </thead>\n",
       "  <tbody>\n",
       "    <tr>\n",
       "      <td>count</td>\n",
       "      <td>211.000000</td>\n",
       "    </tr>\n",
       "    <tr>\n",
       "      <td>mean</td>\n",
       "      <td>17915.550291</td>\n",
       "    </tr>\n",
       "    <tr>\n",
       "      <td>std</td>\n",
       "      <td>26514.610111</td>\n",
       "    </tr>\n",
       "    <tr>\n",
       "      <td>min</td>\n",
       "      <td>271.752044</td>\n",
       "    </tr>\n",
       "    <tr>\n",
       "      <td>25%</td>\n",
       "      <td>2147.382923</td>\n",
       "    </tr>\n",
       "    <tr>\n",
       "      <td>50%</td>\n",
       "      <td>6941.235848</td>\n",
       "    </tr>\n",
       "    <tr>\n",
       "      <td>75%</td>\n",
       "      <td>23168.624671</td>\n",
       "    </tr>\n",
       "    <tr>\n",
       "      <td>max</td>\n",
       "      <td>185741.279992</td>\n",
       "    </tr>\n",
       "  </tbody>\n",
       "</table>\n",
       "</div>"
      ],
      "text/plain": [
       "                 gdp\n",
       "count     211.000000\n",
       "mean    17915.550291\n",
       "std     26514.610111\n",
       "min       271.752044\n",
       "25%      2147.382923\n",
       "50%      6941.235848\n",
       "75%     23168.624671\n",
       "max    185741.279992"
      ]
     },
     "execution_count": 18,
     "metadata": {},
     "output_type": "execute_result"
    }
   ],
   "source": [
    "df.describe()"
   ]
  },
  {
   "cell_type": "code",
   "execution_count": 19,
   "metadata": {},
   "outputs": [],
   "source": [
    "df.to_csv(\"gdp_csv_processed.csv\")"
   ]
  },
  {
   "cell_type": "markdown",
   "metadata": {},
   "source": [
    "<a id=\"graphs\"/>"
   ]
  },
  {
   "cell_type": "markdown",
   "metadata": {},
   "source": [
    "#### Come back to the [Back to the top](#top)"
   ]
  },
  {
   "cell_type": "markdown",
   "metadata": {},
   "source": [
    "#### Come back to [Home](FinalProjectReport.ipynb)"
   ]
  }
 ],
 "metadata": {
  "kernelspec": {
   "display_name": "Python 3",
   "language": "python",
   "name": "python3"
  },
  "language_info": {
   "codemirror_mode": {
    "name": "ipython",
    "version": 3
   },
   "file_extension": ".py",
   "mimetype": "text/x-python",
   "name": "python",
   "nbconvert_exporter": "python",
   "pygments_lexer": "ipython3",
   "version": "3.7.4"
  }
 },
 "nbformat": 4,
 "nbformat_minor": 2
}
