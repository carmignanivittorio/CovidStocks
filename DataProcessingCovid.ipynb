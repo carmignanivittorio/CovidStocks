{
 "cells": [
  {
   "cell_type": "markdown",
   "metadata": {},
   "source": [
    "<a id=\"top\"/>"
   ]
  },
  {
   "cell_type": "markdown",
   "metadata": {},
   "source": [
    "\n",
    "### Come back to [Home](FinalProjectReport.ipynb)\n"
   ]
  },
  {
   "cell_type": "markdown",
   "metadata": {},
   "source": [
    "# COVID-19 DATA PROCESSING"
   ]
  },
  {
   "cell_type": "markdown",
   "metadata": {},
   "source": [
    ">The content of this section is:\n",
    ">1. [Choosing and Obtaining data](#obtain) \n",
    ">1. [Data processing](#proc) \n",
    ">1. [Dataset's stats](#info)"
   ]
  },
  {
   "cell_type": "markdown",
   "metadata": {},
   "source": [
    ">In this section we perform the initial preprocessing of the data to a shape which is best for use in further analysis. We will show:\n",
    "* where we obtain our data\n",
    "* convert the data to a form that it will be easier to use"
   ]
  },
  {
   "cell_type": "markdown",
   "metadata": {},
   "source": [
    ">Here we import the modules that we will need in order to extract the data to manipulate them "
   ]
  },
  {
   "cell_type": "code",
   "execution_count": 1,
   "metadata": {},
   "outputs": [],
   "source": [
    "#!pip install geopy\n",
    "import pandas as pd\n",
    "from geopy.geocoders import Nominatim\n",
    "import numpy as np\n",
    "import pickle\n",
    "import json\n",
    "import csv\n",
    "from collections import Counter, defaultdict, deque\n",
    "from datetime import datetime, timedelta\n",
    "import urllib\n",
    "geolocator = Nominatim(user_agent=\"covid19\")"
   ]
  },
  {
   "cell_type": "markdown",
   "metadata": {},
   "source": [
    "<a id=\"obtain\"/>"
   ]
  },
  {
   "cell_type": "markdown",
   "metadata": {},
   "source": [
    "# COVID-19 Data"
   ]
  },
  {
   "cell_type": "markdown",
   "metadata": {},
   "source": [
    "### Choosing the dataset and obtaining it\n",
    "> We included COVID-19 data in order to have a complete and up to date overview of the disease while the major economic events of the 2020 financial crisis evolved. The purpose is to allow users to correlate the spread of the virus with the financial disparity and drive their own conclusions regarding market sentiment.\n",
    "\n",
    "> We obtained the data directly from: European Centre for Disease Prevention and Control (An agency of the European Union) [link](https://www.ecdc.europa.eu/en). The downloadable data file is updated daily and contains the latest available public data on COVID-19. Each row/entry contains the number of new cases reported per day and per country. [**Folder**](https://opendata.ecdc.europa.eu/covid19/casedistribution/)"
   ]
  },
  {
   "cell_type": "code",
   "execution_count": 2,
   "metadata": {},
   "outputs": [],
   "source": [
    "with urllib.request.urlopen(\"https://opendata.ecdc.europa.eu/covid19/casedistribution/csv\") as url:\n",
    "    europe_data = pd.read_csv(url)"
   ]
  },
  {
   "cell_type": "code",
   "execution_count": 3,
   "metadata": {},
   "outputs": [
    {
     "data": {
      "text/html": [
       "<div>\n",
       "<style scoped>\n",
       "    .dataframe tbody tr th:only-of-type {\n",
       "        vertical-align: middle;\n",
       "    }\n",
       "\n",
       "    .dataframe tbody tr th {\n",
       "        vertical-align: top;\n",
       "    }\n",
       "\n",
       "    .dataframe thead th {\n",
       "        text-align: right;\n",
       "    }\n",
       "</style>\n",
       "<table border=\"1\" class=\"dataframe\">\n",
       "  <thead>\n",
       "    <tr style=\"text-align: right;\">\n",
       "      <th></th>\n",
       "      <th>dateRep</th>\n",
       "      <th>day</th>\n",
       "      <th>month</th>\n",
       "      <th>year</th>\n",
       "      <th>cases</th>\n",
       "      <th>deaths</th>\n",
       "      <th>countriesAndTerritories</th>\n",
       "      <th>geoId</th>\n",
       "      <th>countryterritoryCode</th>\n",
       "      <th>popData2018</th>\n",
       "      <th>continentExp</th>\n",
       "    </tr>\n",
       "  </thead>\n",
       "  <tbody>\n",
       "    <tr>\n",
       "      <td>0</td>\n",
       "      <td>14/05/2020</td>\n",
       "      <td>14</td>\n",
       "      <td>5</td>\n",
       "      <td>2020</td>\n",
       "      <td>259</td>\n",
       "      <td>3</td>\n",
       "      <td>Afghanistan</td>\n",
       "      <td>AF</td>\n",
       "      <td>AFG</td>\n",
       "      <td>37172386.0</td>\n",
       "      <td>Asia</td>\n",
       "    </tr>\n",
       "  </tbody>\n",
       "</table>\n",
       "</div>"
      ],
      "text/plain": [
       "      dateRep  day  month  year  cases  deaths countriesAndTerritories geoId  \\\n",
       "0  14/05/2020   14      5  2020    259       3             Afghanistan    AF   \n",
       "\n",
       "  countryterritoryCode  popData2018 continentExp  \n",
       "0                  AFG   37172386.0         Asia  "
      ]
     },
     "execution_count": 3,
     "metadata": {},
     "output_type": "execute_result"
    }
   ],
   "source": [
    "europe_data.head(1)"
   ]
  },
  {
   "cell_type": "markdown",
   "metadata": {},
   "source": [
    "### Get latitude and longitude of the countries"
   ]
  },
  {
   "cell_type": "code",
   "execution_count": 4,
   "metadata": {},
   "outputs": [],
   "source": [
    "def get_lat_lon_countries(countries: list = None) -> dict:\n",
    "    try:\n",
    "        with open('countries_lat_lon.pickle', 'rb') as handle:\n",
    "            d = pickle.load(handle)\n",
    "    except FileNotFoundError:\n",
    "        d = dict()\n",
    "        problems = []\n",
    "        for c in countries:\n",
    "            try:\n",
    "                print(c)\n",
    "                loc = geolocator.geocode(c.replace(\"_\", \" \"))\n",
    "                d[c] = (loc.latitude, loc.longitude)   \n",
    "            except:\n",
    "                pass\n",
    "        with open('countries_lat_lon.pickle', 'wb') as handle:\n",
    "            pickle.dump(d, handle, protocol=pickle.HIGHEST_PROTOCOL)\n",
    "    return d"
   ]
  },
  {
   "cell_type": "code",
   "execution_count": 5,
   "metadata": {},
   "outputs": [],
   "source": [
    "COUNTRIES = sorted(europe_data.countriesAndTerritories.unique())"
   ]
  },
  {
   "cell_type": "code",
   "execution_count": 6,
   "metadata": {},
   "outputs": [
    {
     "data": {
      "text/plain": [
       "('French_Polynesia coord:', (-16.03442485, -146.0490931059517))"
      ]
     },
     "execution_count": 6,
     "metadata": {},
     "output_type": "execute_result"
    }
   ],
   "source": [
    "loc = geolocator.geocode(\"French_Polynesia\".replace(\"_\", \" \"))\n",
    "\"French_Polynesia coord:\", (loc.latitude, loc.longitude) "
   ]
  },
  {
   "cell_type": "code",
   "execution_count": 7,
   "metadata": {},
   "outputs": [],
   "source": [
    "countries_lat_lon = get_lat_lon_countries(COUNTRIES)\n",
    "COUNTRIES = sorted(countries_lat_lon.keys())\n",
    "# We remove the countries of which we did not retrieve lat and lon\n",
    "europe_data = europe_data[europe_data.countriesAndTerritories.isin(COUNTRIES)]"
   ]
  },
  {
   "cell_type": "code",
   "execution_count": 8,
   "metadata": {},
   "outputs": [
    {
     "data": {
      "text/plain": [
       "500"
      ]
     },
     "execution_count": 8,
     "metadata": {},
     "output_type": "execute_result"
    }
   ],
   "source": [
    "np.uint64(500)"
   ]
  },
  {
   "cell_type": "markdown",
   "metadata": {},
   "source": [
    "<a id=\"proc\"/>"
   ]
  },
  {
   "cell_type": "markdown",
   "metadata": {},
   "source": [
    "# Data Processing"
   ]
  },
  {
   "cell_type": "code",
   "execution_count": 9,
   "metadata": {},
   "outputs": [],
   "source": [
    "df = europe_data.rename(\n",
    "    columns={ \n",
    "        \"dateRep\": \"date\",\n",
    "        \"countriesAndTerritories\": \"country\", \n",
    "        \"geoId\":\"countryCode\", \n",
    "        \"cases\":\"confirmed\",\n",
    "        \"popData2018\": \"pop\",\n",
    "        \"continentExp\": \"continent\"\n",
    "    }\n",
    ")\n",
    "df = df[[\"date\",\"country\",\"countryCode\", \"confirmed\", \"deaths\", \"pop\", \"continent\"]]\n",
    "df = df.dropna()\n",
    "\n",
    "df_ori = df.copy()"
   ]
  },
  {
   "cell_type": "markdown",
   "metadata": {},
   "source": [
    "Adding information about latitude and longitude:"
   ]
  },
  {
   "cell_type": "code",
   "execution_count": 10,
   "metadata": {},
   "outputs": [],
   "source": [
    "get_lat = lambda country: countries_lat_lon[country][0]\n",
    "get_lon = lambda country: countries_lat_lon[country][1]\n",
    "df[\"lat\"] = df.country.apply(get_lat)\n",
    "df[\"lon\"] = df.country.apply(get_lon)"
   ]
  },
  {
   "cell_type": "markdown",
   "metadata": {},
   "source": [
    "Setting suitable types:"
   ]
  },
  {
   "cell_type": "code",
   "execution_count": 11,
   "metadata": {
    "scrolled": true
   },
   "outputs": [
    {
     "data": {
      "text/plain": [
       "date           datetime64[ns]\n",
       "country                object\n",
       "countryCode            object\n",
       "confirmed               int64\n",
       "deaths                  int64\n",
       "pop                     int64\n",
       "continent              object\n",
       "lat                    object\n",
       "lon                    object\n",
       "dtype: object"
      ]
     },
     "execution_count": 11,
     "metadata": {},
     "output_type": "execute_result"
    }
   ],
   "source": [
    "df[\"date\"] = pd.to_datetime(df[\"date\"], format=\"%d/%m/%Y\")\n",
    "df[\"pop\"] = abs(df[\"pop\"]).astype('int64')\n",
    "df[\"confirmed\"] = abs(df[\"confirmed\"]).astype('int64')\n",
    "df[\"deaths\"] = abs(df[\"deaths\"]).astype('int64')\n",
    "df[\"lat\"] = df[\"lat\"].astype(str)\n",
    "df[\"lon\"] = df[\"lon\"].astype(str)\n",
    "df = df.sort_values(by=[\"country\", \"date\"]).reset_index(drop=True)\n",
    "df.dtypes"
   ]
  },
  {
   "cell_type": "markdown",
   "metadata": {},
   "source": [
    "Changing country codes for greece and united kindom:"
   ]
  },
  {
   "cell_type": "code",
   "execution_count": 12,
   "metadata": {},
   "outputs": [],
   "source": [
    "df.loc[df['countryCode'] == 'EL', 'countryCode'] = 'GR'\n",
    "df.loc[df['countryCode'] == 'UK', 'countryCode'] = 'GB'"
   ]
  },
  {
   "cell_type": "code",
   "execution_count": 13,
   "metadata": {},
   "outputs": [
    {
     "name": "stdout",
     "output_type": "stream",
     "text": [
      "Used countries (200): Afghanistan, Albania, Algeria, Andorra, Angola, Antigua_and_Barbuda, Argentina, Armenia, Aruba, Australia, Austria, Azerbaijan, Bahamas, Bahrain, Bangladesh, Barbados, Belarus, Belgium, Belize, Benin, Bermuda, Bhutan, Bolivia, Bosnia_and_Herzegovina, Botswana, Brazil, British_Virgin_Islands, Brunei_Darussalam, Bulgaria, Burkina_Faso, Burundi, Cambodia, Cameroon, Canada, Cape_Verde, Cayman_Islands, Central_African_Republic, Chad, Chile, China, Colombia, Congo, Costa_Rica, Cote_dIvoire, Croatia, Cuba, Curaçao, Cyprus, Czechia, Democratic_Republic_of_the_Congo, Denmark, Djibouti, Dominica, Dominican_Republic, Ecuador, Egypt, El_Salvador, Equatorial_Guinea, Estonia, Eswatini, Ethiopia, Faroe_Islands, Fiji, Finland, France, French_Polynesia, Gabon, Gambia, Georgia, Germany, Ghana, Gibraltar, Greece, Greenland, Grenada, Guam, Guatemala, Guernsey, Guinea, Guinea_Bissau, Guyana, Haiti, Holy_See, Honduras, Hungary, Iceland, India, Indonesia, Iran, Iraq, Ireland, Isle_of_Man, Israel, Italy, Jamaica, Japan, Jersey, Jordan, Kazakhstan, Kenya, Kosovo, Kuwait, Kyrgyzstan, Laos, Latvia, Lebanon, Liberia, Libya, Liechtenstein, Lithuania, Luxembourg, Madagascar, Malawi, Malaysia, Maldives, Mali, Malta, Mauritania, Mauritius, Mexico, Moldova, Monaco, Mongolia, Montenegro, Montserrat, Morocco, Mozambique, Myanmar, Nepal, Netherlands, New_Caledonia, New_Zealand, Nicaragua, Niger, Nigeria, North_Macedonia, Northern_Mariana_Islands, Norway, Oman, Pakistan, Palestine, Panama, Papua_New_Guinea, Paraguay, Peru, Philippines, Poland, Portugal, Puerto_Rico, Qatar, Romania, Russia, Rwanda, Saint_Kitts_and_Nevis, Saint_Lucia, Saint_Vincent_and_the_Grenadines, San_Marino, Sao_Tome_and_Principe, Saudi_Arabia, Senegal, Serbia, Seychelles, Sierra_Leone, Singapore, Sint_Maarten, Slovakia, Slovenia, Somalia, South_Africa, South_Korea, South_Sudan, Spain, Sri_Lanka, Sudan, Suriname, Sweden, Switzerland, Syria, Taiwan, Thailand, Timor_Leste, Togo, Trinidad_and_Tobago, Tunisia, Turkey, Turks_and_Caicos_islands, Uganda, Ukraine, United_Arab_Emirates, United_Kingdom, United_Republic_of_Tanzania, United_States_Virgin_Islands, United_States_of_America, Uruguay, Uzbekistan, Venezuela, Vietnam, Yemen, Zambia, Zimbabwe\n"
     ]
    }
   ],
   "source": [
    "COUNTRIES = sorted(df.country.unique())\n",
    "print(\"Used countries (%d):\" % len(COUNTRIES), \", \".join(COUNTRIES))"
   ]
  },
  {
   "cell_type": "code",
   "execution_count": 14,
   "metadata": {},
   "outputs": [
    {
     "data": {
      "text/html": [
       "<div>\n",
       "<style scoped>\n",
       "    .dataframe tbody tr th:only-of-type {\n",
       "        vertical-align: middle;\n",
       "    }\n",
       "\n",
       "    .dataframe tbody tr th {\n",
       "        vertical-align: top;\n",
       "    }\n",
       "\n",
       "    .dataframe thead th {\n",
       "        text-align: right;\n",
       "    }\n",
       "</style>\n",
       "<table border=\"1\" class=\"dataframe\">\n",
       "  <thead>\n",
       "    <tr style=\"text-align: right;\">\n",
       "      <th></th>\n",
       "      <th>date</th>\n",
       "      <th>country</th>\n",
       "      <th>countryCode</th>\n",
       "      <th>confirmed</th>\n",
       "      <th>deaths</th>\n",
       "      <th>pop</th>\n",
       "      <th>continent</th>\n",
       "      <th>lat</th>\n",
       "      <th>lon</th>\n",
       "    </tr>\n",
       "  </thead>\n",
       "  <tbody>\n",
       "    <tr>\n",
       "      <td>16589</td>\n",
       "      <td>2020-05-13</td>\n",
       "      <td>Zimbabwe</td>\n",
       "      <td>ZW</td>\n",
       "      <td>0</td>\n",
       "      <td>0</td>\n",
       "      <td>14439018</td>\n",
       "      <td>Africa</td>\n",
       "      <td>-18.4554963</td>\n",
       "      <td>29.7468414</td>\n",
       "    </tr>\n",
       "    <tr>\n",
       "      <td>16590</td>\n",
       "      <td>2020-05-14</td>\n",
       "      <td>Zimbabwe</td>\n",
       "      <td>ZW</td>\n",
       "      <td>0</td>\n",
       "      <td>0</td>\n",
       "      <td>14439018</td>\n",
       "      <td>Africa</td>\n",
       "      <td>-18.4554963</td>\n",
       "      <td>29.7468414</td>\n",
       "    </tr>\n",
       "  </tbody>\n",
       "</table>\n",
       "</div>"
      ],
      "text/plain": [
       "            date   country countryCode  confirmed  deaths       pop continent  \\\n",
       "16589 2020-05-13  Zimbabwe          ZW          0       0  14439018    Africa   \n",
       "16590 2020-05-14  Zimbabwe          ZW          0       0  14439018    Africa   \n",
       "\n",
       "               lat         lon  \n",
       "16589  -18.4554963  29.7468414  \n",
       "16590  -18.4554963  29.7468414  "
      ]
     },
     "execution_count": 14,
     "metadata": {},
     "output_type": "execute_result"
    }
   ],
   "source": [
    "df.tail(2)"
   ]
  },
  {
   "cell_type": "markdown",
   "metadata": {},
   "source": [
    "### Filling missing dates"
   ]
  },
  {
   "cell_type": "markdown",
   "metadata": {},
   "source": [
    "We get the the most updated date common between all countries"
   ]
  },
  {
   "cell_type": "code",
   "execution_count": 15,
   "metadata": {},
   "outputs": [
    {
     "name": "stdout",
     "output_type": "stream",
     "text": [
      "Most updated date: 2020-05-13\n"
     ]
    }
   ],
   "source": [
    "MAX_DATE = min(df.groupby(\"country\").max()['date'])\n",
    "print(\"Most updated date: %s\" % MAX_DATE.date())"
   ]
  },
  {
   "cell_type": "code",
   "execution_count": 16,
   "metadata": {},
   "outputs": [],
   "source": [
    "df = df[df.date <= MAX_DATE]"
   ]
  },
  {
   "cell_type": "code",
   "execution_count": 17,
   "metadata": {},
   "outputs": [],
   "source": [
    "def get_all_dates_list(min_date, max_date):\n",
    "    temp = min_date\n",
    "    dates = []\n",
    "    while temp <= max_date:\n",
    "        dates.append(temp)\n",
    "        temp += timedelta(days=1)\n",
    "    return dates"
   ]
  },
  {
   "cell_type": "markdown",
   "metadata": {},
   "source": [
    "The following function returns the dataset related to ONE country with all the dates inside `$range_dates`. If the dates are missed in the \"original\" one then the related rows will be filled with the policy:\n",
    " - `country, countryCode, pop, continent, lat, lon` get the values from the first non-null row (of the original)\n",
    " - `confirmed` and `deaths` are set to `0`."
   ]
  },
  {
   "cell_type": "code",
   "execution_count": 18,
   "metadata": {},
   "outputs": [],
   "source": [
    "def get_country_with_all_dates(country, df, range_dates):\n",
    "    temp_df = df[df.country == country]\n",
    "    temp_df = temp_df.set_index(\"date\").reindex(range_dates)\n",
    "    record = temp_df.dropna().to_dict('records')[0] # get first record in which there are no null values\n",
    "    record[\"confirmed\"] = 0\n",
    "    record[\"deaths\"] = 0\n",
    "    temp_df = temp_df.fillna(value=record)\n",
    "    return temp_df"
   ]
  },
  {
   "cell_type": "code",
   "execution_count": 19,
   "metadata": {},
   "outputs": [
    {
     "data": {
      "text/html": [
       "<div>\n",
       "<style scoped>\n",
       "    .dataframe tbody tr th:only-of-type {\n",
       "        vertical-align: middle;\n",
       "    }\n",
       "\n",
       "    .dataframe tbody tr th {\n",
       "        vertical-align: top;\n",
       "    }\n",
       "\n",
       "    .dataframe thead th {\n",
       "        text-align: right;\n",
       "    }\n",
       "</style>\n",
       "<table border=\"1\" class=\"dataframe\">\n",
       "  <thead>\n",
       "    <tr style=\"text-align: right;\">\n",
       "      <th></th>\n",
       "      <th>country</th>\n",
       "      <th>countryCode</th>\n",
       "      <th>confirmed</th>\n",
       "      <th>deaths</th>\n",
       "      <th>pop</th>\n",
       "      <th>continent</th>\n",
       "      <th>lat</th>\n",
       "      <th>lon</th>\n",
       "    </tr>\n",
       "    <tr>\n",
       "      <th>date</th>\n",
       "      <th></th>\n",
       "      <th></th>\n",
       "      <th></th>\n",
       "      <th></th>\n",
       "      <th></th>\n",
       "      <th></th>\n",
       "      <th></th>\n",
       "      <th></th>\n",
       "    </tr>\n",
       "  </thead>\n",
       "  <tbody>\n",
       "    <tr>\n",
       "      <td>2019-12-31</td>\n",
       "      <td>Northern_Mariana_Islands</td>\n",
       "      <td>MP</td>\n",
       "      <td>0.0</td>\n",
       "      <td>0.0</td>\n",
       "      <td>56882.0</td>\n",
       "      <td>Oceania</td>\n",
       "      <td>14.149020499999999</td>\n",
       "      <td>145.21345248318923</td>\n",
       "    </tr>\n",
       "    <tr>\n",
       "      <td>2020-01-01</td>\n",
       "      <td>Northern_Mariana_Islands</td>\n",
       "      <td>MP</td>\n",
       "      <td>0.0</td>\n",
       "      <td>0.0</td>\n",
       "      <td>56882.0</td>\n",
       "      <td>Oceania</td>\n",
       "      <td>14.149020499999999</td>\n",
       "      <td>145.21345248318923</td>\n",
       "    </tr>\n",
       "    <tr>\n",
       "      <td>2020-01-02</td>\n",
       "      <td>Northern_Mariana_Islands</td>\n",
       "      <td>MP</td>\n",
       "      <td>0.0</td>\n",
       "      <td>0.0</td>\n",
       "      <td>56882.0</td>\n",
       "      <td>Oceania</td>\n",
       "      <td>14.149020499999999</td>\n",
       "      <td>145.21345248318923</td>\n",
       "    </tr>\n",
       "    <tr>\n",
       "      <td>2020-01-03</td>\n",
       "      <td>Northern_Mariana_Islands</td>\n",
       "      <td>MP</td>\n",
       "      <td>0.0</td>\n",
       "      <td>0.0</td>\n",
       "      <td>56882.0</td>\n",
       "      <td>Oceania</td>\n",
       "      <td>14.149020499999999</td>\n",
       "      <td>145.21345248318923</td>\n",
       "    </tr>\n",
       "    <tr>\n",
       "      <td>2020-01-04</td>\n",
       "      <td>Northern_Mariana_Islands</td>\n",
       "      <td>MP</td>\n",
       "      <td>0.0</td>\n",
       "      <td>0.0</td>\n",
       "      <td>56882.0</td>\n",
       "      <td>Oceania</td>\n",
       "      <td>14.149020499999999</td>\n",
       "      <td>145.21345248318923</td>\n",
       "    </tr>\n",
       "    <tr>\n",
       "      <td>...</td>\n",
       "      <td>...</td>\n",
       "      <td>...</td>\n",
       "      <td>...</td>\n",
       "      <td>...</td>\n",
       "      <td>...</td>\n",
       "      <td>...</td>\n",
       "      <td>...</td>\n",
       "      <td>...</td>\n",
       "    </tr>\n",
       "    <tr>\n",
       "      <td>2020-05-09</td>\n",
       "      <td>Northern_Mariana_Islands</td>\n",
       "      <td>MP</td>\n",
       "      <td>0.0</td>\n",
       "      <td>0.0</td>\n",
       "      <td>56882.0</td>\n",
       "      <td>Oceania</td>\n",
       "      <td>14.149020499999999</td>\n",
       "      <td>145.21345248318923</td>\n",
       "    </tr>\n",
       "    <tr>\n",
       "      <td>2020-05-10</td>\n",
       "      <td>Northern_Mariana_Islands</td>\n",
       "      <td>MP</td>\n",
       "      <td>1.0</td>\n",
       "      <td>0.0</td>\n",
       "      <td>56882.0</td>\n",
       "      <td>Oceania</td>\n",
       "      <td>14.149020499999999</td>\n",
       "      <td>145.21345248318923</td>\n",
       "    </tr>\n",
       "    <tr>\n",
       "      <td>2020-05-11</td>\n",
       "      <td>Northern_Mariana_Islands</td>\n",
       "      <td>MP</td>\n",
       "      <td>0.0</td>\n",
       "      <td>0.0</td>\n",
       "      <td>56882.0</td>\n",
       "      <td>Oceania</td>\n",
       "      <td>14.149020499999999</td>\n",
       "      <td>145.21345248318923</td>\n",
       "    </tr>\n",
       "    <tr>\n",
       "      <td>2020-05-12</td>\n",
       "      <td>Northern_Mariana_Islands</td>\n",
       "      <td>MP</td>\n",
       "      <td>3.0</td>\n",
       "      <td>0.0</td>\n",
       "      <td>56882.0</td>\n",
       "      <td>Oceania</td>\n",
       "      <td>14.149020499999999</td>\n",
       "      <td>145.21345248318923</td>\n",
       "    </tr>\n",
       "    <tr>\n",
       "      <td>2020-05-13</td>\n",
       "      <td>Northern_Mariana_Islands</td>\n",
       "      <td>MP</td>\n",
       "      <td>0.0</td>\n",
       "      <td>0.0</td>\n",
       "      <td>56882.0</td>\n",
       "      <td>Oceania</td>\n",
       "      <td>14.149020499999999</td>\n",
       "      <td>145.21345248318923</td>\n",
       "    </tr>\n",
       "  </tbody>\n",
       "</table>\n",
       "<p>135 rows × 8 columns</p>\n",
       "</div>"
      ],
      "text/plain": [
       "                             country countryCode  confirmed  deaths      pop  \\\n",
       "date                                                                           \n",
       "2019-12-31  Northern_Mariana_Islands          MP        0.0     0.0  56882.0   \n",
       "2020-01-01  Northern_Mariana_Islands          MP        0.0     0.0  56882.0   \n",
       "2020-01-02  Northern_Mariana_Islands          MP        0.0     0.0  56882.0   \n",
       "2020-01-03  Northern_Mariana_Islands          MP        0.0     0.0  56882.0   \n",
       "2020-01-04  Northern_Mariana_Islands          MP        0.0     0.0  56882.0   \n",
       "...                              ...         ...        ...     ...      ...   \n",
       "2020-05-09  Northern_Mariana_Islands          MP        0.0     0.0  56882.0   \n",
       "2020-05-10  Northern_Mariana_Islands          MP        1.0     0.0  56882.0   \n",
       "2020-05-11  Northern_Mariana_Islands          MP        0.0     0.0  56882.0   \n",
       "2020-05-12  Northern_Mariana_Islands          MP        3.0     0.0  56882.0   \n",
       "2020-05-13  Northern_Mariana_Islands          MP        0.0     0.0  56882.0   \n",
       "\n",
       "           continent                 lat                 lon  \n",
       "date                                                          \n",
       "2019-12-31   Oceania  14.149020499999999  145.21345248318923  \n",
       "2020-01-01   Oceania  14.149020499999999  145.21345248318923  \n",
       "2020-01-02   Oceania  14.149020499999999  145.21345248318923  \n",
       "2020-01-03   Oceania  14.149020499999999  145.21345248318923  \n",
       "2020-01-04   Oceania  14.149020499999999  145.21345248318923  \n",
       "...              ...                 ...                 ...  \n",
       "2020-05-09   Oceania  14.149020499999999  145.21345248318923  \n",
       "2020-05-10   Oceania  14.149020499999999  145.21345248318923  \n",
       "2020-05-11   Oceania  14.149020499999999  145.21345248318923  \n",
       "2020-05-12   Oceania  14.149020499999999  145.21345248318923  \n",
       "2020-05-13   Oceania  14.149020499999999  145.21345248318923  \n",
       "\n",
       "[135 rows x 8 columns]"
      ]
     },
     "execution_count": 19,
     "metadata": {},
     "output_type": "execute_result"
    }
   ],
   "source": [
    "get_country_with_all_dates(\"Northern_Mariana_Islands\", df, get_all_dates_list(min(df.date), MAX_DATE))"
   ]
  },
  {
   "cell_type": "code",
   "execution_count": 20,
   "metadata": {},
   "outputs": [],
   "source": [
    "def get_all_countries_with_all_dates(dataframe_to_normalize):\n",
    "    df = dataframe_to_normalize.copy()\n",
    "    countries = sorted(df.country.unique())\n",
    "    range_dates = get_all_dates_list(min(df.date), max(df.date))\n",
    "    new_df = get_country_with_all_dates(countries[0], df, range_dates)\n",
    "    for country in countries[1:]:\n",
    "        new_df = new_df.append(get_country_with_all_dates(country, df, range_dates))\n",
    "    new_df = new_df.reset_index()\n",
    "    new_df = new_df.rename(columns={\"index\": \"date\"})\n",
    "    return new_df     "
   ]
  },
  {
   "cell_type": "code",
   "execution_count": 21,
   "metadata": {},
   "outputs": [
    {
     "name": "stdout",
     "output_type": "stream",
     "text": [
      "This is the shape BEFORE filling the new date range: (16392, 9)\n"
     ]
    }
   ],
   "source": [
    "print(\"This is the shape BEFORE filling the new date range:\", df.shape)"
   ]
  },
  {
   "cell_type": "code",
   "execution_count": 22,
   "metadata": {},
   "outputs": [],
   "source": [
    "df = get_all_countries_with_all_dates(df)"
   ]
  },
  {
   "cell_type": "code",
   "execution_count": 23,
   "metadata": {},
   "outputs": [
    {
     "name": "stdout",
     "output_type": "stream",
     "text": [
      "This is the shape AFTER filling the new date range: (27000, 9)\n"
     ]
    }
   ],
   "source": [
    "print(\"This is the shape AFTER filling the new date range:\", df.shape)"
   ]
  },
  {
   "cell_type": "markdown",
   "metadata": {},
   "source": [
    "### Creation of the cumulative and normalized columns\n",
    "Firstly we create the cumulative columns for confirmed case and deaths, respectively, confirmed_cum, deaths_cum. \n",
    "\n",
    "The cumulative rows'value is calculted as: given a value `V2` in a date `D2`, the cumulative value `C2` in `D2 = C1 + V2` (where `C1` is the cumulative value in the previous date `D1`). In other words, `C2` represent the sum of all the values `V` till the date `D2` (included)."
   ]
  },
  {
   "cell_type": "code",
   "execution_count": 24,
   "metadata": {},
   "outputs": [],
   "source": [
    "df[[\"confirmed_cum\", \"deaths_cum\"]] = df.sort_values(by=\"date\").groupby('country')[[\"confirmed\", \"deaths\"]].cumsum()"
   ]
  },
  {
   "cell_type": "markdown",
   "metadata": {},
   "source": [
    "Secondly, we create the normalized columns for `\"confirmed_cum\", \"deaths_cum\", \"confirmed\", \"deaths\"`. The column is normalized based on the country population and then multiplied by 1M.\n",
    "For example: `\"confirmed_norm\"` expresses the `Total confirmed cases / 1M population`"
   ]
  },
  {
   "cell_type": "code",
   "execution_count": 25,
   "metadata": {},
   "outputs": [],
   "source": [
    "for col in [\"confirmed_cum\", \"deaths_cum\", \"confirmed\", \"deaths\"]:\n",
    "    df[col+\"_norm\"] = df[col]/(df[\"pop\"]/1000000)"
   ]
  },
  {
   "cell_type": "code",
   "execution_count": 26,
   "metadata": {},
   "outputs": [
    {
     "data": {
      "text/html": [
       "<div>\n",
       "<style scoped>\n",
       "    .dataframe tbody tr th:only-of-type {\n",
       "        vertical-align: middle;\n",
       "    }\n",
       "\n",
       "    .dataframe tbody tr th {\n",
       "        vertical-align: top;\n",
       "    }\n",
       "\n",
       "    .dataframe thead th {\n",
       "        text-align: right;\n",
       "    }\n",
       "</style>\n",
       "<table border=\"1\" class=\"dataframe\">\n",
       "  <thead>\n",
       "    <tr style=\"text-align: right;\">\n",
       "      <th></th>\n",
       "      <th>date</th>\n",
       "      <th>country</th>\n",
       "      <th>countryCode</th>\n",
       "      <th>confirmed</th>\n",
       "      <th>deaths</th>\n",
       "      <th>pop</th>\n",
       "      <th>continent</th>\n",
       "      <th>lat</th>\n",
       "      <th>lon</th>\n",
       "      <th>confirmed_cum</th>\n",
       "      <th>deaths_cum</th>\n",
       "      <th>confirmed_cum_norm</th>\n",
       "      <th>deaths_cum_norm</th>\n",
       "      <th>confirmed_norm</th>\n",
       "      <th>deaths_norm</th>\n",
       "    </tr>\n",
       "  </thead>\n",
       "  <tbody>\n",
       "    <tr>\n",
       "      <td>26995</td>\n",
       "      <td>2020-05-09</td>\n",
       "      <td>Zimbabwe</td>\n",
       "      <td>ZW</td>\n",
       "      <td>1.0</td>\n",
       "      <td>0.0</td>\n",
       "      <td>14439018.0</td>\n",
       "      <td>Africa</td>\n",
       "      <td>-18.4554963</td>\n",
       "      <td>29.7468414</td>\n",
       "      <td>35.0</td>\n",
       "      <td>4.0</td>\n",
       "      <td>2.423988</td>\n",
       "      <td>0.277027</td>\n",
       "      <td>0.069257</td>\n",
       "      <td>0.0</td>\n",
       "    </tr>\n",
       "    <tr>\n",
       "      <td>26996</td>\n",
       "      <td>2020-05-10</td>\n",
       "      <td>Zimbabwe</td>\n",
       "      <td>ZW</td>\n",
       "      <td>1.0</td>\n",
       "      <td>0.0</td>\n",
       "      <td>14439018.0</td>\n",
       "      <td>Africa</td>\n",
       "      <td>-18.4554963</td>\n",
       "      <td>29.7468414</td>\n",
       "      <td>36.0</td>\n",
       "      <td>4.0</td>\n",
       "      <td>2.493244</td>\n",
       "      <td>0.277027</td>\n",
       "      <td>0.069257</td>\n",
       "      <td>0.0</td>\n",
       "    </tr>\n",
       "    <tr>\n",
       "      <td>26997</td>\n",
       "      <td>2020-05-11</td>\n",
       "      <td>Zimbabwe</td>\n",
       "      <td>ZW</td>\n",
       "      <td>0.0</td>\n",
       "      <td>0.0</td>\n",
       "      <td>14439018.0</td>\n",
       "      <td>Africa</td>\n",
       "      <td>-18.4554963</td>\n",
       "      <td>29.7468414</td>\n",
       "      <td>36.0</td>\n",
       "      <td>4.0</td>\n",
       "      <td>2.493244</td>\n",
       "      <td>0.277027</td>\n",
       "      <td>0.000000</td>\n",
       "      <td>0.0</td>\n",
       "    </tr>\n",
       "    <tr>\n",
       "      <td>26998</td>\n",
       "      <td>2020-05-12</td>\n",
       "      <td>Zimbabwe</td>\n",
       "      <td>ZW</td>\n",
       "      <td>1.0</td>\n",
       "      <td>0.0</td>\n",
       "      <td>14439018.0</td>\n",
       "      <td>Africa</td>\n",
       "      <td>-18.4554963</td>\n",
       "      <td>29.7468414</td>\n",
       "      <td>37.0</td>\n",
       "      <td>4.0</td>\n",
       "      <td>2.562501</td>\n",
       "      <td>0.277027</td>\n",
       "      <td>0.069257</td>\n",
       "      <td>0.0</td>\n",
       "    </tr>\n",
       "    <tr>\n",
       "      <td>26999</td>\n",
       "      <td>2020-05-13</td>\n",
       "      <td>Zimbabwe</td>\n",
       "      <td>ZW</td>\n",
       "      <td>0.0</td>\n",
       "      <td>0.0</td>\n",
       "      <td>14439018.0</td>\n",
       "      <td>Africa</td>\n",
       "      <td>-18.4554963</td>\n",
       "      <td>29.7468414</td>\n",
       "      <td>37.0</td>\n",
       "      <td>4.0</td>\n",
       "      <td>2.562501</td>\n",
       "      <td>0.277027</td>\n",
       "      <td>0.000000</td>\n",
       "      <td>0.0</td>\n",
       "    </tr>\n",
       "  </tbody>\n",
       "</table>\n",
       "</div>"
      ],
      "text/plain": [
       "            date   country countryCode  confirmed  deaths         pop  \\\n",
       "26995 2020-05-09  Zimbabwe          ZW        1.0     0.0  14439018.0   \n",
       "26996 2020-05-10  Zimbabwe          ZW        1.0     0.0  14439018.0   \n",
       "26997 2020-05-11  Zimbabwe          ZW        0.0     0.0  14439018.0   \n",
       "26998 2020-05-12  Zimbabwe          ZW        1.0     0.0  14439018.0   \n",
       "26999 2020-05-13  Zimbabwe          ZW        0.0     0.0  14439018.0   \n",
       "\n",
       "      continent          lat         lon  confirmed_cum  deaths_cum  \\\n",
       "26995    Africa  -18.4554963  29.7468414           35.0         4.0   \n",
       "26996    Africa  -18.4554963  29.7468414           36.0         4.0   \n",
       "26997    Africa  -18.4554963  29.7468414           36.0         4.0   \n",
       "26998    Africa  -18.4554963  29.7468414           37.0         4.0   \n",
       "26999    Africa  -18.4554963  29.7468414           37.0         4.0   \n",
       "\n",
       "       confirmed_cum_norm  deaths_cum_norm  confirmed_norm  deaths_norm  \n",
       "26995            2.423988         0.277027        0.069257          0.0  \n",
       "26996            2.493244         0.277027        0.069257          0.0  \n",
       "26997            2.493244         0.277027        0.000000          0.0  \n",
       "26998            2.562501         0.277027        0.069257          0.0  \n",
       "26999            2.562501         0.277027        0.000000          0.0  "
      ]
     },
     "execution_count": 26,
     "metadata": {},
     "output_type": "execute_result"
    }
   ],
   "source": [
    "df.tail()"
   ]
  },
  {
   "cell_type": "markdown",
   "metadata": {},
   "source": [
    "### Merge the dataset with the GDP one"
   ]
  },
  {
   "cell_type": "code",
   "execution_count": 27,
   "metadata": {},
   "outputs": [
    {
     "data": {
      "text/html": [
       "<div>\n",
       "<style scoped>\n",
       "    .dataframe tbody tr th:only-of-type {\n",
       "        vertical-align: middle;\n",
       "    }\n",
       "\n",
       "    .dataframe tbody tr th {\n",
       "        vertical-align: top;\n",
       "    }\n",
       "\n",
       "    .dataframe thead th {\n",
       "        text-align: right;\n",
       "    }\n",
       "</style>\n",
       "<table border=\"1\" class=\"dataframe\">\n",
       "  <thead>\n",
       "    <tr style=\"text-align: right;\">\n",
       "      <th></th>\n",
       "      <th>countryCode3</th>\n",
       "      <th>gdp_year</th>\n",
       "      <th>gdp</th>\n",
       "      <th>countryCode</th>\n",
       "    </tr>\n",
       "  </thead>\n",
       "  <tbody>\n",
       "    <tr>\n",
       "      <td>0</td>\n",
       "      <td>MCO</td>\n",
       "      <td>2018</td>\n",
       "      <td>185741.279992</td>\n",
       "      <td>MC</td>\n",
       "    </tr>\n",
       "    <tr>\n",
       "      <td>1</td>\n",
       "      <td>LIE</td>\n",
       "      <td>2016</td>\n",
       "      <td>165028.245029</td>\n",
       "      <td>LI</td>\n",
       "    </tr>\n",
       "  </tbody>\n",
       "</table>\n",
       "</div>"
      ],
      "text/plain": [
       "  countryCode3  gdp_year            gdp countryCode\n",
       "0          MCO      2018  185741.279992          MC\n",
       "1          LIE      2016  165028.245029          LI"
      ]
     },
     "execution_count": 27,
     "metadata": {},
     "output_type": "execute_result"
    }
   ],
   "source": [
    "df_gdp = pd.read_csv(\"gdp_csv_processed.csv\", index_col=0)\n",
    "df_gdp.head(2)"
   ]
  },
  {
   "cell_type": "code",
   "execution_count": 28,
   "metadata": {},
   "outputs": [],
   "source": [
    "temp = pd.merge(df, df_gdp.reset_index().set_index('countryCode'), how='left', left_on='countryCode', right_index=True)"
   ]
  },
  {
   "cell_type": "code",
   "execution_count": 29,
   "metadata": {},
   "outputs": [
    {
     "name": "stdout",
     "output_type": "stream",
     "text": [
      "These are the countries without GDP: British_Virgin_Islands, Gibraltar, Guernsey, Holy_See, Jersey, Montserrat, Sint_Maarten, Taiwan\n"
     ]
    }
   ],
   "source": [
    "print(\"These are the countries without GDP:\", \", \".join(temp[temp.isnull().any(axis=1)].country.unique()))"
   ]
  },
  {
   "cell_type": "markdown",
   "metadata": {},
   "source": [
    "Since since they are really small states they should not influence the analysis we want to conduct. We will fill these data with -1 (since it is out of their natural domain)."
   ]
  },
  {
   "cell_type": "code",
   "execution_count": 30,
   "metadata": {},
   "outputs": [
    {
     "data": {
      "text/html": [
       "<div>\n",
       "<style scoped>\n",
       "    .dataframe tbody tr th:only-of-type {\n",
       "        vertical-align: middle;\n",
       "    }\n",
       "\n",
       "    .dataframe tbody tr th {\n",
       "        vertical-align: top;\n",
       "    }\n",
       "\n",
       "    .dataframe thead th {\n",
       "        text-align: right;\n",
       "    }\n",
       "</style>\n",
       "<table border=\"1\" class=\"dataframe\">\n",
       "  <thead>\n",
       "    <tr style=\"text-align: right;\">\n",
       "      <th></th>\n",
       "      <th>date</th>\n",
       "      <th>country</th>\n",
       "      <th>countryCode</th>\n",
       "      <th>confirmed</th>\n",
       "      <th>deaths</th>\n",
       "      <th>pop</th>\n",
       "      <th>continent</th>\n",
       "      <th>lat</th>\n",
       "      <th>lon</th>\n",
       "      <th>confirmed_cum</th>\n",
       "      <th>deaths_cum</th>\n",
       "      <th>confirmed_cum_norm</th>\n",
       "      <th>deaths_cum_norm</th>\n",
       "      <th>confirmed_norm</th>\n",
       "      <th>deaths_norm</th>\n",
       "      <th>index</th>\n",
       "      <th>countryCode3</th>\n",
       "      <th>gdp_year</th>\n",
       "      <th>gdp</th>\n",
       "    </tr>\n",
       "  </thead>\n",
       "  <tbody>\n",
       "    <tr>\n",
       "      <td>0</td>\n",
       "      <td>2019-12-31</td>\n",
       "      <td>Afghanistan</td>\n",
       "      <td>AF</td>\n",
       "      <td>0.0</td>\n",
       "      <td>0.0</td>\n",
       "      <td>37172386.0</td>\n",
       "      <td>Asia</td>\n",
       "      <td>33.7680065</td>\n",
       "      <td>66.2385139</td>\n",
       "      <td>0.0</td>\n",
       "      <td>0.0</td>\n",
       "      <td>0.000000</td>\n",
       "      <td>0.000000</td>\n",
       "      <td>0.000000</td>\n",
       "      <td>0.0</td>\n",
       "      <td>204.0</td>\n",
       "      <td>AFG</td>\n",
       "      <td>2018.0</td>\n",
       "      <td>520.896603</td>\n",
       "    </tr>\n",
       "    <tr>\n",
       "      <td>1</td>\n",
       "      <td>2020-01-01</td>\n",
       "      <td>Afghanistan</td>\n",
       "      <td>AF</td>\n",
       "      <td>0.0</td>\n",
       "      <td>0.0</td>\n",
       "      <td>37172386.0</td>\n",
       "      <td>Asia</td>\n",
       "      <td>33.7680065</td>\n",
       "      <td>66.2385139</td>\n",
       "      <td>0.0</td>\n",
       "      <td>0.0</td>\n",
       "      <td>0.000000</td>\n",
       "      <td>0.000000</td>\n",
       "      <td>0.000000</td>\n",
       "      <td>0.0</td>\n",
       "      <td>204.0</td>\n",
       "      <td>AFG</td>\n",
       "      <td>2018.0</td>\n",
       "      <td>520.896603</td>\n",
       "    </tr>\n",
       "    <tr>\n",
       "      <td>2</td>\n",
       "      <td>2020-01-02</td>\n",
       "      <td>Afghanistan</td>\n",
       "      <td>AF</td>\n",
       "      <td>0.0</td>\n",
       "      <td>0.0</td>\n",
       "      <td>37172386.0</td>\n",
       "      <td>Asia</td>\n",
       "      <td>33.7680065</td>\n",
       "      <td>66.2385139</td>\n",
       "      <td>0.0</td>\n",
       "      <td>0.0</td>\n",
       "      <td>0.000000</td>\n",
       "      <td>0.000000</td>\n",
       "      <td>0.000000</td>\n",
       "      <td>0.0</td>\n",
       "      <td>204.0</td>\n",
       "      <td>AFG</td>\n",
       "      <td>2018.0</td>\n",
       "      <td>520.896603</td>\n",
       "    </tr>\n",
       "    <tr>\n",
       "      <td>3</td>\n",
       "      <td>2020-01-03</td>\n",
       "      <td>Afghanistan</td>\n",
       "      <td>AF</td>\n",
       "      <td>0.0</td>\n",
       "      <td>0.0</td>\n",
       "      <td>37172386.0</td>\n",
       "      <td>Asia</td>\n",
       "      <td>33.7680065</td>\n",
       "      <td>66.2385139</td>\n",
       "      <td>0.0</td>\n",
       "      <td>0.0</td>\n",
       "      <td>0.000000</td>\n",
       "      <td>0.000000</td>\n",
       "      <td>0.000000</td>\n",
       "      <td>0.0</td>\n",
       "      <td>204.0</td>\n",
       "      <td>AFG</td>\n",
       "      <td>2018.0</td>\n",
       "      <td>520.896603</td>\n",
       "    </tr>\n",
       "    <tr>\n",
       "      <td>4</td>\n",
       "      <td>2020-01-04</td>\n",
       "      <td>Afghanistan</td>\n",
       "      <td>AF</td>\n",
       "      <td>0.0</td>\n",
       "      <td>0.0</td>\n",
       "      <td>37172386.0</td>\n",
       "      <td>Asia</td>\n",
       "      <td>33.7680065</td>\n",
       "      <td>66.2385139</td>\n",
       "      <td>0.0</td>\n",
       "      <td>0.0</td>\n",
       "      <td>0.000000</td>\n",
       "      <td>0.000000</td>\n",
       "      <td>0.000000</td>\n",
       "      <td>0.0</td>\n",
       "      <td>204.0</td>\n",
       "      <td>AFG</td>\n",
       "      <td>2018.0</td>\n",
       "      <td>520.896603</td>\n",
       "    </tr>\n",
       "    <tr>\n",
       "      <td>...</td>\n",
       "      <td>...</td>\n",
       "      <td>...</td>\n",
       "      <td>...</td>\n",
       "      <td>...</td>\n",
       "      <td>...</td>\n",
       "      <td>...</td>\n",
       "      <td>...</td>\n",
       "      <td>...</td>\n",
       "      <td>...</td>\n",
       "      <td>...</td>\n",
       "      <td>...</td>\n",
       "      <td>...</td>\n",
       "      <td>...</td>\n",
       "      <td>...</td>\n",
       "      <td>...</td>\n",
       "      <td>...</td>\n",
       "      <td>...</td>\n",
       "      <td>...</td>\n",
       "      <td>...</td>\n",
       "    </tr>\n",
       "    <tr>\n",
       "      <td>26995</td>\n",
       "      <td>2020-05-09</td>\n",
       "      <td>Zimbabwe</td>\n",
       "      <td>ZW</td>\n",
       "      <td>1.0</td>\n",
       "      <td>0.0</td>\n",
       "      <td>14439018.0</td>\n",
       "      <td>Africa</td>\n",
       "      <td>-18.4554963</td>\n",
       "      <td>29.7468414</td>\n",
       "      <td>35.0</td>\n",
       "      <td>4.0</td>\n",
       "      <td>2.423988</td>\n",
       "      <td>0.277027</td>\n",
       "      <td>0.069257</td>\n",
       "      <td>0.0</td>\n",
       "      <td>158.0</td>\n",
       "      <td>ZWE</td>\n",
       "      <td>2018.0</td>\n",
       "      <td>2146.996385</td>\n",
       "    </tr>\n",
       "    <tr>\n",
       "      <td>26996</td>\n",
       "      <td>2020-05-10</td>\n",
       "      <td>Zimbabwe</td>\n",
       "      <td>ZW</td>\n",
       "      <td>1.0</td>\n",
       "      <td>0.0</td>\n",
       "      <td>14439018.0</td>\n",
       "      <td>Africa</td>\n",
       "      <td>-18.4554963</td>\n",
       "      <td>29.7468414</td>\n",
       "      <td>36.0</td>\n",
       "      <td>4.0</td>\n",
       "      <td>2.493244</td>\n",
       "      <td>0.277027</td>\n",
       "      <td>0.069257</td>\n",
       "      <td>0.0</td>\n",
       "      <td>158.0</td>\n",
       "      <td>ZWE</td>\n",
       "      <td>2018.0</td>\n",
       "      <td>2146.996385</td>\n",
       "    </tr>\n",
       "    <tr>\n",
       "      <td>26997</td>\n",
       "      <td>2020-05-11</td>\n",
       "      <td>Zimbabwe</td>\n",
       "      <td>ZW</td>\n",
       "      <td>0.0</td>\n",
       "      <td>0.0</td>\n",
       "      <td>14439018.0</td>\n",
       "      <td>Africa</td>\n",
       "      <td>-18.4554963</td>\n",
       "      <td>29.7468414</td>\n",
       "      <td>36.0</td>\n",
       "      <td>4.0</td>\n",
       "      <td>2.493244</td>\n",
       "      <td>0.277027</td>\n",
       "      <td>0.000000</td>\n",
       "      <td>0.0</td>\n",
       "      <td>158.0</td>\n",
       "      <td>ZWE</td>\n",
       "      <td>2018.0</td>\n",
       "      <td>2146.996385</td>\n",
       "    </tr>\n",
       "    <tr>\n",
       "      <td>26998</td>\n",
       "      <td>2020-05-12</td>\n",
       "      <td>Zimbabwe</td>\n",
       "      <td>ZW</td>\n",
       "      <td>1.0</td>\n",
       "      <td>0.0</td>\n",
       "      <td>14439018.0</td>\n",
       "      <td>Africa</td>\n",
       "      <td>-18.4554963</td>\n",
       "      <td>29.7468414</td>\n",
       "      <td>37.0</td>\n",
       "      <td>4.0</td>\n",
       "      <td>2.562501</td>\n",
       "      <td>0.277027</td>\n",
       "      <td>0.069257</td>\n",
       "      <td>0.0</td>\n",
       "      <td>158.0</td>\n",
       "      <td>ZWE</td>\n",
       "      <td>2018.0</td>\n",
       "      <td>2146.996385</td>\n",
       "    </tr>\n",
       "    <tr>\n",
       "      <td>26999</td>\n",
       "      <td>2020-05-13</td>\n",
       "      <td>Zimbabwe</td>\n",
       "      <td>ZW</td>\n",
       "      <td>0.0</td>\n",
       "      <td>0.0</td>\n",
       "      <td>14439018.0</td>\n",
       "      <td>Africa</td>\n",
       "      <td>-18.4554963</td>\n",
       "      <td>29.7468414</td>\n",
       "      <td>37.0</td>\n",
       "      <td>4.0</td>\n",
       "      <td>2.562501</td>\n",
       "      <td>0.277027</td>\n",
       "      <td>0.000000</td>\n",
       "      <td>0.0</td>\n",
       "      <td>158.0</td>\n",
       "      <td>ZWE</td>\n",
       "      <td>2018.0</td>\n",
       "      <td>2146.996385</td>\n",
       "    </tr>\n",
       "  </tbody>\n",
       "</table>\n",
       "<p>27000 rows × 19 columns</p>\n",
       "</div>"
      ],
      "text/plain": [
       "            date      country countryCode  confirmed  deaths         pop  \\\n",
       "0     2019-12-31  Afghanistan          AF        0.0     0.0  37172386.0   \n",
       "1     2020-01-01  Afghanistan          AF        0.0     0.0  37172386.0   \n",
       "2     2020-01-02  Afghanistan          AF        0.0     0.0  37172386.0   \n",
       "3     2020-01-03  Afghanistan          AF        0.0     0.0  37172386.0   \n",
       "4     2020-01-04  Afghanistan          AF        0.0     0.0  37172386.0   \n",
       "...          ...          ...         ...        ...     ...         ...   \n",
       "26995 2020-05-09     Zimbabwe          ZW        1.0     0.0  14439018.0   \n",
       "26996 2020-05-10     Zimbabwe          ZW        1.0     0.0  14439018.0   \n",
       "26997 2020-05-11     Zimbabwe          ZW        0.0     0.0  14439018.0   \n",
       "26998 2020-05-12     Zimbabwe          ZW        1.0     0.0  14439018.0   \n",
       "26999 2020-05-13     Zimbabwe          ZW        0.0     0.0  14439018.0   \n",
       "\n",
       "      continent          lat         lon  confirmed_cum  deaths_cum  \\\n",
       "0          Asia   33.7680065  66.2385139            0.0         0.0   \n",
       "1          Asia   33.7680065  66.2385139            0.0         0.0   \n",
       "2          Asia   33.7680065  66.2385139            0.0         0.0   \n",
       "3          Asia   33.7680065  66.2385139            0.0         0.0   \n",
       "4          Asia   33.7680065  66.2385139            0.0         0.0   \n",
       "...         ...          ...         ...            ...         ...   \n",
       "26995    Africa  -18.4554963  29.7468414           35.0         4.0   \n",
       "26996    Africa  -18.4554963  29.7468414           36.0         4.0   \n",
       "26997    Africa  -18.4554963  29.7468414           36.0         4.0   \n",
       "26998    Africa  -18.4554963  29.7468414           37.0         4.0   \n",
       "26999    Africa  -18.4554963  29.7468414           37.0         4.0   \n",
       "\n",
       "       confirmed_cum_norm  deaths_cum_norm  confirmed_norm  deaths_norm  \\\n",
       "0                0.000000         0.000000        0.000000          0.0   \n",
       "1                0.000000         0.000000        0.000000          0.0   \n",
       "2                0.000000         0.000000        0.000000          0.0   \n",
       "3                0.000000         0.000000        0.000000          0.0   \n",
       "4                0.000000         0.000000        0.000000          0.0   \n",
       "...                   ...              ...             ...          ...   \n",
       "26995            2.423988         0.277027        0.069257          0.0   \n",
       "26996            2.493244         0.277027        0.069257          0.0   \n",
       "26997            2.493244         0.277027        0.000000          0.0   \n",
       "26998            2.562501         0.277027        0.069257          0.0   \n",
       "26999            2.562501         0.277027        0.000000          0.0   \n",
       "\n",
       "       index countryCode3  gdp_year          gdp  \n",
       "0      204.0          AFG    2018.0   520.896603  \n",
       "1      204.0          AFG    2018.0   520.896603  \n",
       "2      204.0          AFG    2018.0   520.896603  \n",
       "3      204.0          AFG    2018.0   520.896603  \n",
       "4      204.0          AFG    2018.0   520.896603  \n",
       "...      ...          ...       ...          ...  \n",
       "26995  158.0          ZWE    2018.0  2146.996385  \n",
       "26996  158.0          ZWE    2018.0  2146.996385  \n",
       "26997  158.0          ZWE    2018.0  2146.996385  \n",
       "26998  158.0          ZWE    2018.0  2146.996385  \n",
       "26999  158.0          ZWE    2018.0  2146.996385  \n",
       "\n",
       "[27000 rows x 19 columns]"
      ]
     },
     "execution_count": 30,
     "metadata": {},
     "output_type": "execute_result"
    }
   ],
   "source": [
    "df = temp.fillna(-1)\n",
    "df"
   ]
  },
  {
   "cell_type": "markdown",
   "metadata": {},
   "source": [
    "<a id=\"info\"/>"
   ]
  },
  {
   "cell_type": "markdown",
   "metadata": {},
   "source": [
    "# Dataset's stats\n"
   ]
  },
  {
   "cell_type": "code",
   "execution_count": 31,
   "metadata": {},
   "outputs": [],
   "source": [
    "get_number_unique_values = lambda df, col: len(df[col].unique())\n",
    "def print_info(df, main_feature):\n",
    "    print(\"Number of %s:\" % main_feature, get_number_unique_values(df, main_feature))\n",
    "    print(\"\\nNumber of days:\", get_number_unique_values(df, \"date\"))\n",
    "    print(\"\\nFrom:\", min(df.date), \"to\", max(df.date))\n",
    "    features = df.columns.to_list()\n",
    "    print(\"\\nWe have %d features:\" % len(features), features)\n",
    "    print(\"\\nThe total number of (rows, cols) is:\", df.shape)\n",
    "    print(\"\\nIn memory occupies: ~%d MB\\n\" % (df.memory_usage(index=True).sum() / (2**16)))\n",
    "    print(df.head(1))"
   ]
  },
  {
   "cell_type": "markdown",
   "metadata": {},
   "source": [
    "### Original Dataset"
   ]
  },
  {
   "cell_type": "code",
   "execution_count": 32,
   "metadata": {},
   "outputs": [
    {
     "name": "stdout",
     "output_type": "stream",
     "text": [
      "Number of country: 200\n",
      "\n",
      "Number of days: 136\n",
      "\n",
      "From: 01/01/2020 to 31/12/2019\n",
      "\n",
      "We have 7 features: ['date', 'country', 'countryCode', 'confirmed', 'deaths', 'pop', 'continent']\n",
      "\n",
      "The total number of (rows, cols) is: (16591, 7)\n",
      "\n",
      "In memory occupies: ~16 MB\n",
      "\n",
      "         date      country countryCode  confirmed  deaths         pop  \\\n",
      "0  14/05/2020  Afghanistan          AF        259       3  37172386.0   \n",
      "\n",
      "  continent  \n",
      "0      Asia  \n"
     ]
    }
   ],
   "source": [
    "print_info(df_ori, \"country\")"
   ]
  },
  {
   "cell_type": "markdown",
   "metadata": {},
   "source": [
    "### Processed Dataset"
   ]
  },
  {
   "cell_type": "code",
   "execution_count": 33,
   "metadata": {
    "scrolled": false
   },
   "outputs": [
    {
     "name": "stdout",
     "output_type": "stream",
     "text": [
      "Number of country: 200\n",
      "\n",
      "Number of days: 135\n",
      "\n",
      "From: 2019-12-31 00:00:00 to 2020-05-13 00:00:00\n",
      "\n",
      "We have 19 features: ['date', 'country', 'countryCode', 'confirmed', 'deaths', 'pop', 'continent', 'lat', 'lon', 'confirmed_cum', 'deaths_cum', 'confirmed_cum_norm', 'deaths_cum_norm', 'confirmed_norm', 'deaths_norm', 'index', 'countryCode3', 'gdp_year', 'gdp']\n",
      "\n",
      "The total number of (rows, cols) is: (27000, 19)\n",
      "\n",
      "In memory occupies: ~62 MB\n",
      "\n",
      "        date      country countryCode  confirmed  deaths         pop  \\\n",
      "0 2019-12-31  Afghanistan          AF        0.0     0.0  37172386.0   \n",
      "\n",
      "  continent         lat         lon  confirmed_cum  deaths_cum  \\\n",
      "0      Asia  33.7680065  66.2385139            0.0         0.0   \n",
      "\n",
      "   confirmed_cum_norm  deaths_cum_norm  confirmed_norm  deaths_norm  index  \\\n",
      "0                 0.0              0.0             0.0          0.0  204.0   \n",
      "\n",
      "  countryCode3  gdp_year         gdp  \n",
      "0          AFG    2018.0  520.896603  \n"
     ]
    }
   ],
   "source": [
    "print_info(df, \"country\")"
   ]
  },
  {
   "cell_type": "code",
   "execution_count": 34,
   "metadata": {},
   "outputs": [
    {
     "data": {
      "text/html": [
       "<div>\n",
       "<style scoped>\n",
       "    .dataframe tbody tr th:only-of-type {\n",
       "        vertical-align: middle;\n",
       "    }\n",
       "\n",
       "    .dataframe tbody tr th {\n",
       "        vertical-align: top;\n",
       "    }\n",
       "\n",
       "    .dataframe thead th {\n",
       "        text-align: right;\n",
       "    }\n",
       "</style>\n",
       "<table border=\"1\" class=\"dataframe\">\n",
       "  <thead>\n",
       "    <tr style=\"text-align: right;\">\n",
       "      <th></th>\n",
       "      <th>confirmed</th>\n",
       "      <th>deaths</th>\n",
       "      <th>pop</th>\n",
       "      <th>confirmed_cum</th>\n",
       "      <th>deaths_cum</th>\n",
       "      <th>confirmed_cum_norm</th>\n",
       "      <th>deaths_cum_norm</th>\n",
       "      <th>confirmed_norm</th>\n",
       "      <th>deaths_norm</th>\n",
       "      <th>index</th>\n",
       "      <th>gdp_year</th>\n",
       "      <th>gdp</th>\n",
       "    </tr>\n",
       "  </thead>\n",
       "  <tbody>\n",
       "    <tr>\n",
       "      <td>count</td>\n",
       "      <td>27000.000000</td>\n",
       "      <td>27000.000000</td>\n",
       "      <td>2.700000e+04</td>\n",
       "      <td>2.700000e+04</td>\n",
       "      <td>27000.000000</td>\n",
       "      <td>27000.000000</td>\n",
       "      <td>27000.000000</td>\n",
       "      <td>27000.000000</td>\n",
       "      <td>27000.000000</td>\n",
       "      <td>27000.000000</td>\n",
       "      <td>27000.000000</td>\n",
       "      <td>27000.000000</td>\n",
       "    </tr>\n",
       "    <tr>\n",
       "      <td>mean</td>\n",
       "      <td>156.745926</td>\n",
       "      <td>10.802852</td>\n",
       "      <td>3.767808e+07</td>\n",
       "      <td>4.390272e+03</td>\n",
       "      <td>290.699370</td>\n",
       "      <td>249.856462</td>\n",
       "      <td>11.149589</td>\n",
       "      <td>7.872003</td>\n",
       "      <td>0.376141</td>\n",
       "      <td>98.980000</td>\n",
       "      <td>1936.885000</td>\n",
       "      <td>17816.659888</td>\n",
       "    </tr>\n",
       "    <tr>\n",
       "      <td>std</td>\n",
       "      <td>1308.312539</td>\n",
       "      <td>98.980530</td>\n",
       "      <td>1.416867e+08</td>\n",
       "      <td>3.893883e+04</td>\n",
       "      <td>2688.046641</td>\n",
       "      <td>999.324263</td>\n",
       "      <td>66.304672</td>\n",
       "      <td>45.938483</td>\n",
       "      <td>2.962948</td>\n",
       "      <td>63.547928</td>\n",
       "      <td>395.581569</td>\n",
       "      <td>26574.353602</td>\n",
       "    </tr>\n",
       "    <tr>\n",
       "      <td>min</td>\n",
       "      <td>0.000000</td>\n",
       "      <td>0.000000</td>\n",
       "      <td>1.000000e+03</td>\n",
       "      <td>0.000000e+00</td>\n",
       "      <td>0.000000</td>\n",
       "      <td>0.000000</td>\n",
       "      <td>0.000000</td>\n",
       "      <td>0.000000</td>\n",
       "      <td>0.000000</td>\n",
       "      <td>-1.000000</td>\n",
       "      <td>-1.000000</td>\n",
       "      <td>-1.000000</td>\n",
       "    </tr>\n",
       "    <tr>\n",
       "      <td>25%</td>\n",
       "      <td>0.000000</td>\n",
       "      <td>0.000000</td>\n",
       "      <td>1.298724e+06</td>\n",
       "      <td>0.000000e+00</td>\n",
       "      <td>0.000000</td>\n",
       "      <td>0.000000</td>\n",
       "      <td>0.000000</td>\n",
       "      <td>0.000000</td>\n",
       "      <td>0.000000</td>\n",
       "      <td>43.750000</td>\n",
       "      <td>2018.000000</td>\n",
       "      <td>2023.631192</td>\n",
       "    </tr>\n",
       "    <tr>\n",
       "      <td>50%</td>\n",
       "      <td>0.000000</td>\n",
       "      <td>0.000000</td>\n",
       "      <td>7.355830e+06</td>\n",
       "      <td>1.000000e+00</td>\n",
       "      <td>0.000000</td>\n",
       "      <td>0.035603</td>\n",
       "      <td>0.000000</td>\n",
       "      <td>0.000000</td>\n",
       "      <td>0.000000</td>\n",
       "      <td>96.500000</td>\n",
       "      <td>2018.000000</td>\n",
       "      <td>6804.513274</td>\n",
       "    </tr>\n",
       "    <tr>\n",
       "      <td>75%</td>\n",
       "      <td>6.000000</td>\n",
       "      <td>0.000000</td>\n",
       "      <td>2.671874e+07</td>\n",
       "      <td>1.520000e+02</td>\n",
       "      <td>3.000000</td>\n",
       "      <td>44.346577</td>\n",
       "      <td>0.402619</td>\n",
       "      <td>0.876084</td>\n",
       "      <td>0.000000</td>\n",
       "      <td>154.250000</td>\n",
       "      <td>2018.000000</td>\n",
       "      <td>23260.593459</td>\n",
       "    </tr>\n",
       "    <tr>\n",
       "      <td>max</td>\n",
       "      <td>48529.000000</td>\n",
       "      <td>4928.000000</td>\n",
       "      <td>1.392730e+09</td>\n",
       "      <td>1.369964e+06</td>\n",
       "      <td>82387.000000</td>\n",
       "      <td>19416.900992</td>\n",
       "      <td>1213.556312</td>\n",
       "      <td>4000.000000</td>\n",
       "      <td>177.593607</td>\n",
       "      <td>210.000000</td>\n",
       "      <td>2018.000000</td>\n",
       "      <td>185741.279992</td>\n",
       "    </tr>\n",
       "  </tbody>\n",
       "</table>\n",
       "</div>"
      ],
      "text/plain": [
       "          confirmed        deaths           pop  confirmed_cum    deaths_cum  \\\n",
       "count  27000.000000  27000.000000  2.700000e+04   2.700000e+04  27000.000000   \n",
       "mean     156.745926     10.802852  3.767808e+07   4.390272e+03    290.699370   \n",
       "std     1308.312539     98.980530  1.416867e+08   3.893883e+04   2688.046641   \n",
       "min        0.000000      0.000000  1.000000e+03   0.000000e+00      0.000000   \n",
       "25%        0.000000      0.000000  1.298724e+06   0.000000e+00      0.000000   \n",
       "50%        0.000000      0.000000  7.355830e+06   1.000000e+00      0.000000   \n",
       "75%        6.000000      0.000000  2.671874e+07   1.520000e+02      3.000000   \n",
       "max    48529.000000   4928.000000  1.392730e+09   1.369964e+06  82387.000000   \n",
       "\n",
       "       confirmed_cum_norm  deaths_cum_norm  confirmed_norm   deaths_norm  \\\n",
       "count        27000.000000     27000.000000    27000.000000  27000.000000   \n",
       "mean           249.856462        11.149589        7.872003      0.376141   \n",
       "std            999.324263        66.304672       45.938483      2.962948   \n",
       "min              0.000000         0.000000        0.000000      0.000000   \n",
       "25%              0.000000         0.000000        0.000000      0.000000   \n",
       "50%              0.035603         0.000000        0.000000      0.000000   \n",
       "75%             44.346577         0.402619        0.876084      0.000000   \n",
       "max          19416.900992      1213.556312     4000.000000    177.593607   \n",
       "\n",
       "              index      gdp_year            gdp  \n",
       "count  27000.000000  27000.000000   27000.000000  \n",
       "mean      98.980000   1936.885000   17816.659888  \n",
       "std       63.547928    395.581569   26574.353602  \n",
       "min       -1.000000     -1.000000      -1.000000  \n",
       "25%       43.750000   2018.000000    2023.631192  \n",
       "50%       96.500000   2018.000000    6804.513274  \n",
       "75%      154.250000   2018.000000   23260.593459  \n",
       "max      210.000000   2018.000000  185741.279992  "
      ]
     },
     "execution_count": 34,
     "metadata": {},
     "output_type": "execute_result"
    }
   ],
   "source": [
    "df.describe()"
   ]
  },
  {
   "cell_type": "code",
   "execution_count": 35,
   "metadata": {},
   "outputs": [
    {
     "data": {
      "text/html": [
       "<div>\n",
       "<style scoped>\n",
       "    .dataframe tbody tr th:only-of-type {\n",
       "        vertical-align: middle;\n",
       "    }\n",
       "\n",
       "    .dataframe tbody tr th {\n",
       "        vertical-align: top;\n",
       "    }\n",
       "\n",
       "    .dataframe thead th {\n",
       "        text-align: right;\n",
       "    }\n",
       "</style>\n",
       "<table border=\"1\" class=\"dataframe\">\n",
       "  <thead>\n",
       "    <tr style=\"text-align: right;\">\n",
       "      <th></th>\n",
       "      <th>date</th>\n",
       "      <th>country</th>\n",
       "      <th>countryCode</th>\n",
       "      <th>confirmed</th>\n",
       "      <th>deaths</th>\n",
       "      <th>pop</th>\n",
       "      <th>continent</th>\n",
       "      <th>lat</th>\n",
       "      <th>lon</th>\n",
       "      <th>confirmed_cum</th>\n",
       "      <th>deaths_cum</th>\n",
       "      <th>confirmed_cum_norm</th>\n",
       "      <th>deaths_cum_norm</th>\n",
       "      <th>confirmed_norm</th>\n",
       "      <th>deaths_norm</th>\n",
       "      <th>index</th>\n",
       "      <th>countryCode3</th>\n",
       "      <th>gdp_year</th>\n",
       "      <th>gdp</th>\n",
       "    </tr>\n",
       "  </thead>\n",
       "  <tbody>\n",
       "    <tr>\n",
       "      <td>0</td>\n",
       "      <td>2019-12-31</td>\n",
       "      <td>Afghanistan</td>\n",
       "      <td>AF</td>\n",
       "      <td>0.0</td>\n",
       "      <td>0.0</td>\n",
       "      <td>37172386.0</td>\n",
       "      <td>Asia</td>\n",
       "      <td>33.7680065</td>\n",
       "      <td>66.2385139</td>\n",
       "      <td>0.0</td>\n",
       "      <td>0.0</td>\n",
       "      <td>0.0</td>\n",
       "      <td>0.0</td>\n",
       "      <td>0.0</td>\n",
       "      <td>0.0</td>\n",
       "      <td>204.0</td>\n",
       "      <td>AFG</td>\n",
       "      <td>2018.0</td>\n",
       "      <td>520.896603</td>\n",
       "    </tr>\n",
       "  </tbody>\n",
       "</table>\n",
       "</div>"
      ],
      "text/plain": [
       "        date      country countryCode  confirmed  deaths         pop  \\\n",
       "0 2019-12-31  Afghanistan          AF        0.0     0.0  37172386.0   \n",
       "\n",
       "  continent         lat         lon  confirmed_cum  deaths_cum  \\\n",
       "0      Asia  33.7680065  66.2385139            0.0         0.0   \n",
       "\n",
       "   confirmed_cum_norm  deaths_cum_norm  confirmed_norm  deaths_norm  index  \\\n",
       "0                 0.0              0.0             0.0          0.0  204.0   \n",
       "\n",
       "  countryCode3  gdp_year         gdp  \n",
       "0          AFG    2018.0  520.896603  "
      ]
     },
     "execution_count": 35,
     "metadata": {},
     "output_type": "execute_result"
    }
   ],
   "source": [
    "df.head(1)"
   ]
  },
  {
   "cell_type": "code",
   "execution_count": 36,
   "metadata": {},
   "outputs": [],
   "source": [
    "df.to_json(\"datacovid.json\",orient='index')\n",
    "df.to_csv(\"datacovid.csv\", index=False)"
   ]
  },
  {
   "cell_type": "code",
   "execution_count": 37,
   "metadata": {},
   "outputs": [
    {
     "data": {
      "text/plain": [
       "'1589488488466'"
      ]
     },
     "execution_count": 37,
     "metadata": {},
     "output_type": "execute_result"
    }
   ],
   "source": [
    "get_unix_timestamp_str = lambda x: str(int(x.timestamp()*1000))\n",
    "get_unix_timestamp_str(datetime.today())"
   ]
  },
  {
   "cell_type": "code",
   "execution_count": 38,
   "metadata": {},
   "outputs": [],
   "source": [
    "temp_df = df.set_index([\"country\", \"date\"]).to_dict(orient='index')\n",
    "dict_country_date = {country: {str(date.date()): row} for (country, date), row in temp_df.items()}"
   ]
  },
  {
   "cell_type": "code",
   "execution_count": 39,
   "metadata": {},
   "outputs": [],
   "source": [
    "temp_df = df.copy()\n",
    "temp_df[\"countryCodeGB\"] = temp_df[\"countryCode\"].apply(lambda x: x if x != 'GB' else 'UK')\n",
    "temp_df = temp_df.set_index([\"country\", \"date\"]).to_dict(orient='index')\n",
    "dict_country_date_unix = {country: {get_unix_timestamp_str(date): row} for (country, date), row in temp_df.items()}"
   ]
  },
  {
   "cell_type": "code",
   "execution_count": 40,
   "metadata": {},
   "outputs": [],
   "source": [
    "temp_df = df[['date', 'country', 'countryCode', 'confirmed_cum', 'deaths_cum']]\n",
    "temp_df = temp_df.rename(columns={\"confirmed_cum\": \"value\", \"deaths_cum\": \"deaths\", 'country': 'name','countryCode': 'id'}).set_index('date')\n",
    "datacovid_for_heatmap = defaultdict(list)\n",
    "for date, row in temp_df.iterrows():\n",
    "    datacovid_for_heatmap[get_unix_timestamp_str(date)].append(row.to_dict())"
   ]
  },
  {
   "cell_type": "code",
   "execution_count": 41,
   "metadata": {},
   "outputs": [],
   "source": [
    "with open('datacovid_country_date.json', 'w') as fp:\n",
    "    json.dump(dict_country_date, fp)\n",
    "with open('datacovid_country_date_unix.json', 'w') as fp:\n",
    "    json.dump(dict_country_date_unix, fp)\n",
    "with open('datacovid_for_heatmap.json', 'w') as fp:\n",
    "    json.dump(datacovid_for_heatmap, fp)"
   ]
  },
  {
   "cell_type": "markdown",
   "metadata": {},
   "source": [
    "#### Come back to the [Back to the top](#top)"
   ]
  },
  {
   "cell_type": "markdown",
   "metadata": {},
   "source": [
    "#### Come back to [Home](FinalProjectReport.ipynb)"
   ]
  }
 ],
 "metadata": {
  "kernelspec": {
   "display_name": "Python 3",
   "language": "python",
   "name": "python3"
  },
  "language_info": {
   "codemirror_mode": {
    "name": "ipython",
    "version": 3
   },
   "file_extension": ".py",
   "mimetype": "text/x-python",
   "name": "python",
   "nbconvert_exporter": "python",
   "pygments_lexer": "ipython3",
   "version": "3.7.4"
  }
 },
 "nbformat": 4,
 "nbformat_minor": 2
}
